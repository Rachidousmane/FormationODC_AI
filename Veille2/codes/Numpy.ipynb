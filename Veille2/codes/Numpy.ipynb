{
 "cells": [
  {
   "cell_type": "markdown",
   "id": "69938059",
   "metadata": {},
   "source": [
    "# NumPy Illustrated: The Visual Guide to NumPy"
   ]
  },
  {
   "cell_type": "markdown",
   "id": "be1902e0",
   "metadata": {},
   "source": [
    "### Pourquoi Numpy au lieu des Listes en python?\n",
    "L'exemple le plus simple lorsque les tableaux NumPy battent des listes est arithmétique :\n",
    "- plus compact, surtout lorsqu'il y a plus d'une dimension\n",
    "- plus rapide que les listes lorsque l'opération peut être vectorisée\n",
    "- plus lent que les listes lorsque vous ajoutez des éléments à la fin\n",
    "- habituellement homogène : ne peut travailler rapidement qu'avec des éléments d'un seul type"
   ]
  },
  {
   "cell_type": "markdown",
   "id": "b105eda5",
   "metadata": {},
   "source": [
    "Quelques significations:\n",
    "- O(N)  --> see Big-O Cheat Sheet And (proportional to the size of the array)\n",
    "- O*(1) --> the so-called “amortized” O(1) (le temps d'execution ne dépend généralement pas de la taille du tableau)"
   ]
  },
  {
   "cell_type": "markdown",
   "id": "1437a8ef",
   "metadata": {},
   "source": [
    "## 1-Numpy Array vs. Python List"
   ]
  },
  {
   "cell_type": "markdown",
   "id": "f4645d10",
   "metadata": {},
   "source": [
    "### 1_1-With python List"
   ]
  },
  {
   "cell_type": "code",
   "execution_count": 1,
   "id": "f03124c9",
   "metadata": {},
   "outputs": [
    {
     "name": "stdout",
     "output_type": "stream",
     "text": [
      "Avec la list en python\n"
     ]
    },
    {
     "data": {
      "text/plain": [
       "[2, 4, 6]"
      ]
     },
     "execution_count": 1,
     "metadata": {},
     "output_type": "execute_result"
    }
   ],
   "source": [
    "# Mutiplication d'une liste python par 2 \n",
    "a = [1, 2, 3]\n",
    "print(\"Avec la list en python\")\n",
    "[q*2 for q in a]"
   ]
  },
  {
   "cell_type": "code",
   "execution_count": 2,
   "id": "f9714f9c",
   "metadata": {},
   "outputs": [
    {
     "data": {
      "text/plain": [
       "[5, 7, 9]"
      ]
     },
     "execution_count": 2,
     "metadata": {},
     "output_type": "execute_result"
    }
   ],
   "source": [
    "# Somme de 2 tableaux avec les list Python\n",
    "a = [1, 2, 3]\n",
    "b = [4, 5, 6]\n",
    "[q+r for q,r in zip(a, b)]"
   ]
  },
  {
   "cell_type": "markdown",
   "id": "cc6cc44d",
   "metadata": {},
   "source": [
    "### 1_2-With Numpy library"
   ]
  },
  {
   "cell_type": "code",
   "execution_count": 3,
   "id": "5b336a7b",
   "metadata": {
    "scrolled": true
   },
   "outputs": [
    {
     "name": "stdout",
     "output_type": "stream",
     "text": [
      "Avec la Biblio Numpy\n"
     ]
    },
    {
     "data": {
      "text/plain": [
       "array([2, 4, 6])"
      ]
     },
     "execution_count": 3,
     "metadata": {},
     "output_type": "execute_result"
    }
   ],
   "source": [
    "# Mutiplication d'un tableau (numpy) par 2 \n",
    "import numpy as np\n",
    "a = np.array([1, 2, 3])\n",
    "print(\"Avec la Biblio Numpy\")\n",
    "a*2"
   ]
  },
  {
   "cell_type": "code",
   "execution_count": 4,
   "id": "28225e13",
   "metadata": {},
   "outputs": [
    {
     "data": {
      "text/plain": [
       "array([5, 7, 9])"
      ]
     },
     "execution_count": 4,
     "metadata": {},
     "output_type": "execute_result"
    }
   ],
   "source": [
    "# Somme de 2 tableaux avec Numpy\n",
    "a = np.array([1, 2, 3])\n",
    "b = np.array([4, 5, 6])\n",
    "a + b"
   ]
  },
  {
   "cell_type": "markdown",
   "id": "398e8c60",
   "metadata": {},
   "source": [
    "## 2. Vectors, the 1D Arrays"
   ]
  },
  {
   "cell_type": "markdown",
   "id": "27c49273",
   "metadata": {},
   "source": [
    "## 2_1-Vector initialization"
   ]
  },
  {
   "cell_type": "code",
   "execution_count": 5,
   "id": "6f7884ad",
   "metadata": {},
   "outputs": [],
   "source": [
    "a = np.array([1., 2., 3.])"
   ]
  },
  {
   "cell_type": "code",
   "execution_count": 6,
   "id": "b2a3c119",
   "metadata": {},
   "outputs": [
    {
     "data": {
      "text/plain": [
       "dtype('float64')"
      ]
     },
     "execution_count": 6,
     "metadata": {},
     "output_type": "execute_result"
    }
   ],
   "source": [
    "#Afficher le type du tableau\n",
    "a.dtype"
   ]
  },
  {
   "cell_type": "code",
   "execution_count": 7,
   "id": "0bdd37c7",
   "metadata": {},
   "outputs": [
    {
     "data": {
      "text/plain": [
       "(3,)"
      ]
     },
     "execution_count": 7,
     "metadata": {},
     "output_type": "execute_result"
    }
   ],
   "source": [
    "#Afficher la dimension du tableau\n",
    "a.shape"
   ]
  },
  {
   "cell_type": "code",
   "execution_count": 8,
   "id": "28fdde49",
   "metadata": {},
   "outputs": [
    {
     "name": "stdout",
     "output_type": "stream",
     "text": [
      "L'array suivant est de type :  int32\n"
     ]
    },
    {
     "data": {
      "text/plain": [
       "array([0, 0, 0])"
      ]
     },
     "execution_count": 8,
     "metadata": {},
     "output_type": "execute_result"
    }
   ],
   "source": [
    "# préallouer l'espace nécessaire pour un tableau\n",
    "b = np.zeros(3, int)\n",
    "print(\"L'array suivant est de type : \", b.dtype)\n",
    "b"
   ]
  },
  {
   "cell_type": "markdown",
   "id": "5d62423d",
   "metadata": {},
   "source": [
    "Il est souvent nécessaire de créer un tableau vide qui correspond à celui existant par forme et type d'éléments"
   ]
  },
  {
   "cell_type": "code",
   "execution_count": 9,
   "id": "88d57a8f",
   "metadata": {},
   "outputs": [
    {
     "name": "stdout",
     "output_type": "stream",
     "text": [
      "L'array suivant crée en fonction de a est de type: float64\n",
      "Et de taille--> (3,)\n"
     ]
    },
    {
     "data": {
      "text/plain": [
       "array([0., 0., 0.])"
      ]
     },
     "execution_count": 9,
     "metadata": {},
     "output_type": "execute_result"
    }
   ],
   "source": [
    "c = np.zeros_like(a)\n",
    "print(\"L'array suivant crée en fonction de a est de type:\", c.dtype )\n",
    "print(\"Et de taille-->\", c.shape)\n",
    "c"
   ]
  },
  {
   "cell_type": "markdown",
   "id": "c3a76702",
   "metadata": {},
   "source": [
    "#### En fait, toutes les fonctions qui créent un tableau rempli d'une valeur constante ont une contrepartie _like"
   ]
  },
  {
   "cell_type": "code",
   "execution_count": 10,
   "id": "11493ac6",
   "metadata": {},
   "outputs": [
    {
     "name": "stdout",
     "output_type": "stream",
     "text": [
      "np.zeros(3) -->  [0. 0. 0.]\n",
      "np.ones(3) -->  [1. 1. 1.]\n",
      "np.empty(3) -->  [1. 1. 1.]\n",
      "np.full(3, 7.) -->  [7. 7. 7.]\n",
      "np.zeros_like(a) -->  [0 0 0]\n",
      "np.ones_like(a) -->  [1 1 1]\n",
      "np.empty_like(a) -->  [1 1 1]\n",
      "np.full_like(a, 7) -->  [7 7 7]\n"
     ]
    }
   ],
   "source": [
    "print(\"np.zeros(3) --> \",np.zeros(3))\n",
    "print(\"np.ones(3) --> \", np.ones(3))\n",
    "print(\"np.empty(3) --> \", np.empty(3))\n",
    "print(\"np.full(3, 7.) --> \", np.full(3, 7.))\n",
    "\n",
    "a = np.array([1, 2, 3])\n",
    "print(\"np.zeros_like(a) --> \", np.zeros_like(a))\n",
    "print(\"np.ones_like(a) --> \", np.ones_like(a))\n",
    "print(\"np.empty_like(a) --> \", np.empty_like(a))\n",
    "print(\"np.full_like(a, 7) --> \", np.full_like(a, 7))"
   ]
  },
  {
   "cell_type": "markdown",
   "id": "16fafca2",
   "metadata": {},
   "source": [
    "#### Remarque (Question): En 1ère execution de np.empty(a), ce dernier ne contiendra pas directement les valeurs  a après une exection de a qui date d'une certaine durée, à moins qu'on l'execute un nbre de fois >= 2"
   ]
  },
  {
   "cell_type": "markdown",
   "id": "0ba4e219",
   "metadata": {},
   "source": [
    "#### Il y a jusqu'à deux fonctions pour l'initialisation du tableau avec une séquence monotone dans NumPy"
   ]
  },
  {
   "cell_type": "code",
   "execution_count": 11,
   "id": "59660e50",
   "metadata": {},
   "outputs": [
    {
     "name": "stdout",
     "output_type": "stream",
     "text": [
      "np.arange(6) -->  [0 1 2 3 4 5]\n",
      "np.arange(2, 6) -->  [2 3 4 5]\n",
      "np.arange(1, 6, 2) -->  [1 3 5]\n",
      "np.linspace(0, 0.5, 6) -->  [0.  0.1 0.2 0.3 0.4 0.5]\n"
     ]
    }
   ],
   "source": [
    "print(\"np.arange(6) --> \", np.arange(6))\n",
    "print(\"np.arange(2, 6) --> \", np.arange(2, 6))\n",
    "print(\"np.arange(1, 6, 2) --> \", np.arange(1, 6, 2))\n",
    "#n'est pas particulièrement bon pour manipuler les floats, on utilise généralement linspace()\n",
    "print(\"np.linspace(0, 0.5, 6) --> \", np.linspace(0, 0.5, 6))\n",
    "# np.linspace(start, stop, numbre d'item)"
   ]
  },
  {
   "cell_type": "code",
   "execution_count": 12,
   "id": "d8a292ad",
   "metadata": {},
   "outputs": [
    {
     "name": "stdout",
     "output_type": "stream",
     "text": [
      "np.arange(0.4, 0.8, 0.1) -->  [0.4 0.5 0.6 0.7]\n"
     ]
    }
   ],
   "source": [
    "# np.arange(start, stop, numbre d'item)\n",
    "print(\"np.arange(0.4, 0.8, 0.1) --> \", np.arange(0.4, 0.8, 0.1))"
   ]
  },
  {
   "cell_type": "code",
   "execution_count": 13,
   "id": "c76a0688",
   "metadata": {},
   "outputs": [
    {
     "name": "stdout",
     "output_type": "stream",
     "text": [
      "np.random.randint(0, 10, 3) -->  [4 6 7]\n",
      "np.random.rand(3) -->  [0.50452964 0.50667778 0.78229862]\n",
      "np.random.uniform(1, 10, 3) -->  [6.54112197 2.7553462  0.64325883]\n",
      "np.random.randn(3) -->  []\n",
      "np.random.normal(5, 2, 3) -->  [7.49139439 5.36471875 3.36577621]\n"
     ]
    }
   ],
   "source": [
    "# Le methodes du module random\n",
    "import random\n",
    "print(\"np.random.randint(0, 10, 3) --> \", np.random.randint(0, 10, 3))\n",
    "print(\"np.random.rand(3) --> \", np.random.rand(3))\n",
    "print(\"np.random.uniform(1, 10, 3) --> \", np.random.uniform(0, 10, 3))\n",
    "print(\"np.random.randn(3) --> \", np.random.randn(0, 10, 3))\n",
    "print(\"np.random.normal(5, 2, 3) --> \", np.random.normal(5, 2, 3))"
   ]
  },
  {
   "cell_type": "markdown",
   "id": "cddaa0a8",
   "metadata": {},
   "source": [
    "#### Une nouvelle interface pour la génération de tableaux aléatoires"
   ]
  },
  {
   "cell_type": "code",
   "execution_count": 14,
   "id": "2af87452",
   "metadata": {},
   "outputs": [
    {
     "name": "stdout",
     "output_type": "stream",
     "text": [
      "rng.integers(0, 10, 3) -->  [1 0 4]\n",
      "rng.integers(0, 10, 3, endpoint = True) -->  [10  1  8]\n",
      "rng.random(3) -->  0\n",
      "rng.uniform(1, 10, 3) -->  [3.82289951 6.69395828 6.57405922]\n",
      "rng.standard_normal(3) -->  [ 1.19454891  0.80467299 -0.25252261]\n",
      "rng.normal(5, 2, 3) -->  [5.58351811 9.79743696 6.42633223]\n"
     ]
    }
   ],
   "source": [
    "rng = np.random.default_rng()\n",
    "\n",
    "print(\"rng.integers(0, 10, 3) --> \", rng.integers(0, 10, 3))\n",
    "print(\"rng.integers(0, 10, 3, endpoint = True) --> \", rng.integers(0, 10, 3, endpoint = True))\n",
    "print(\"rng.random(3) --> \", rng.integers(3))\n",
    "print(\"rng.uniform(1, 10, 3) --> \", rng.uniform(1, 10, 3))\n",
    "print(\"rng.standard_normal(3) --> \", rng.standard_normal(3))\n",
    "print(\"rng.normal(5, 2, 3) --> \", rng.uniform(1, 10, 3))\n"
   ]
  },
  {
   "cell_type": "markdown",
   "id": "ef605f53",
   "metadata": {},
   "source": [
    "## 2_2- Vector indexing"
   ]
  },
  {
   "cell_type": "code",
   "execution_count": 15,
   "id": "3f5c2de7",
   "metadata": {},
   "outputs": [
    {
     "name": "stdout",
     "output_type": "stream",
     "text": [
      "a[1] --> 2\n",
      "a[2:4] --> [3 4]\n",
      "a[-2:] --> [4 5]\n",
      "a[::2] --> [1 3 5]\n",
      "a[[1, 3, 4]] --> [2 4 5] (indexation sophistiquée)\n"
     ]
    }
   ],
   "source": [
    "a = np.arange(1, 6)\n",
    "print(\"a[1] -->\", a[1])\n",
    "print(\"a[2:4] -->\", a[2:4])\n",
    "print(\"a[-2:] -->\", a[-2:])\n",
    "print(\"a[::2] -->\", a[::2])\n",
    "print(\"a[[1, 3, 4]] -->\", a[[1, 3, 4]], \"(indexation sophistiquée)\")"
   ]
  },
  {
   "cell_type": "markdown",
   "id": "472b82e6",
   "metadata": {},
   "source": [
    "### Copie avec les listes python"
   ]
  },
  {
   "cell_type": "code",
   "execution_count": 16,
   "id": "76981f4f",
   "metadata": {},
   "outputs": [],
   "source": [
    "a = [1, 2, 3]\n",
    "b = a\n",
    "c = a[:]\n",
    "d = a.copy()"
   ]
  },
  {
   "cell_type": "code",
   "execution_count": 17,
   "id": "78cab9a9",
   "metadata": {},
   "outputs": [
    {
     "name": "stdout",
     "output_type": "stream",
     "text": [
      "b --> [1, 2, 3]\n",
      "c --> [1, 2, 3]\n",
      "d --> [1, 2, 3]\n"
     ]
    }
   ],
   "source": [
    "print(\"b -->\", b)\n",
    "print(\"c -->\", c)\n",
    "print(\"d -->\", d)"
   ]
  },
  {
   "cell_type": "markdown",
   "id": "1b4102bb",
   "metadata": {},
   "source": [
    "* Effacer une liste"
   ]
  },
  {
   "cell_type": "code",
   "execution_count": 18,
   "id": "55e2b5a6",
   "metadata": {},
   "outputs": [],
   "source": [
    "del a"
   ]
  },
  {
   "cell_type": "code",
   "execution_count": 19,
   "id": "193803bc",
   "metadata": {},
   "outputs": [
    {
     "name": "stdout",
     "output_type": "stream",
     "text": [
      "b --> [1, 2, 3]\n",
      "c --> [1, 2, 3]\n",
      "d --> [1, 2, 3]\n"
     ]
    }
   ],
   "source": [
    "print(\"b -->\", b)\n",
    "print(\"c -->\", c)\n",
    "print(\"d -->\", d)"
   ]
  },
  {
   "cell_type": "markdown",
   "id": "45ccdf37",
   "metadata": {},
   "source": [
    "### Copie avec le librairie numpy"
   ]
  },
  {
   "cell_type": "code",
   "execution_count": 34,
   "id": "59951d52",
   "metadata": {},
   "outputs": [],
   "source": [
    "a = np.array([1, 2, 3])\n",
    "b = a\n",
    "c = a[:]\n",
    "d = a.copy()"
   ]
  },
  {
   "cell_type": "code",
   "execution_count": 35,
   "id": "fc8616ed",
   "metadata": {},
   "outputs": [
    {
     "name": "stdout",
     "output_type": "stream",
     "text": [
      "b --> [1 2 3]\n",
      "c --> [1 2 3]\n",
      "d --> [1 2 3]\n"
     ]
    }
   ],
   "source": [
    "print(\"b -->\", b)\n",
    "print(\"c -->\", c)\n",
    "print(\"d -->\", d)"
   ]
  },
  {
   "cell_type": "markdown",
   "id": "26d8978a",
   "metadata": {},
   "source": [
    "#### Le code suivant marche pas avec les listes en python mais ne marche pas avec numpy"
   ]
  },
  {
   "cell_type": "code",
   "execution_count": 36,
   "id": "06035049",
   "metadata": {},
   "outputs": [
    {
     "data": {
      "text/plain": [
       "[1, 4, 5, 3]"
      ]
     },
     "execution_count": 36,
     "metadata": {},
     "output_type": "execute_result"
    }
   ],
   "source": [
    "# Avec List()\n",
    "a = [1, 2, 3]\n",
    "a[1:2] = [4, 5] #Inserer 4 et 5 a l'indice 1 de a\n",
    "a"
   ]
  },
  {
   "cell_type": "code",
   "execution_count": 37,
   "id": "be6e8159",
   "metadata": {},
   "outputs": [
    {
     "ename": "ValueError",
     "evalue": "could not broadcast input array from shape (2,) into shape (1,)",
     "output_type": "error",
     "traceback": [
      "\u001b[1;31m---------------------------------------------------------------------------\u001b[0m",
      "\u001b[1;31mValueError\u001b[0m                                Traceback (most recent call last)",
      "Input \u001b[1;32mIn [37]\u001b[0m, in \u001b[0;36m<cell line: 3>\u001b[1;34m()\u001b[0m\n\u001b[0;32m      1\u001b[0m \u001b[38;5;66;03m# Essayons avec array\u001b[39;00m\n\u001b[0;32m      2\u001b[0m a \u001b[38;5;241m=\u001b[39m np\u001b[38;5;241m.\u001b[39marray([\u001b[38;5;241m1\u001b[39m, \u001b[38;5;241m2\u001b[39m, \u001b[38;5;241m3\u001b[39m])\n\u001b[1;32m----> 3\u001b[0m a[\u001b[38;5;241m1\u001b[39m:\u001b[38;5;241m2\u001b[39m] \u001b[38;5;241m=\u001b[39m [\u001b[38;5;241m4\u001b[39m, \u001b[38;5;241m5\u001b[39m] \u001b[38;5;66;03m#Inserer 4 et 5 a l'indice 1 de a\u001b[39;00m\n\u001b[0;32m      4\u001b[0m a\n",
      "\u001b[1;31mValueError\u001b[0m: could not broadcast input array from shape (2,) into shape (1,)"
     ]
    }
   ],
   "source": [
    "# Essayons avec array\n",
    "a = np.array([1, 2, 3])\n",
    "a[1:2] = [4, 5] #Inserer 4 et 5 a l'indice 1 de a\n",
    "a"
   ]
  },
  {
   "cell_type": "markdown",
   "id": "3798cbbf",
   "metadata": {},
   "source": [
    "Apres execution on se rend tout de suite compte que ça ne marche pas avec l'array de numpy, donc pour se faire, on pourra utiliser la methode .insert et .append"
   ]
  },
  {
   "cell_type": "markdown",
   "id": "58ba3d0c",
   "metadata": {},
   "source": [
    "### Une autre manière d'acceder à un tableau array est l'indexation booleene"
   ]
  },
  {
   "cell_type": "code",
   "execution_count": 38,
   "id": "af6cb8d5",
   "metadata": {},
   "outputs": [
    {
     "name": "stdout",
     "output_type": "stream",
     "text": [
      "np.any(a>5) -->  True\n",
      "np.all(a>5) -->  False\n",
      "a[a>5] -->  [6 7 6]\n"
     ]
    }
   ],
   "source": [
    "a = np.array([1, 2, 3, 4, 5, 6, 7, 6, 5, 4, 3, 2, 1])\n",
    "print(\"np.any(a>5) --> \", np.any(a>5))\n",
    "print(\"np.all(a>5) --> \", np.all(a>5))\n",
    "print(\"a[a>5] --> \", a[a>5]) # Retourne les valeurs en question elle même"
   ]
  },
  {
   "cell_type": "code",
   "execution_count": 39,
   "id": "61a82fac",
   "metadata": {},
   "outputs": [
    {
     "data": {
      "text/plain": [
       "array([1, 2, 3, 4, 5, 0, 0, 0, 5, 4, 3, 2, 1])"
      ]
     },
     "execution_count": 39,
     "metadata": {},
     "output_type": "execute_result"
    }
   ],
   "source": [
    "a[a>5] = 0 # Remplace les valeurs de a superieures à 5 par 0\n",
    "a"
   ]
  },
  {
   "cell_type": "code",
   "execution_count": 40,
   "id": "fa38ccf5",
   "metadata": {},
   "outputs": [
    {
     "data": {
      "text/plain": [
       "array([1, 2, 0, 0, 0, 6, 7, 6, 0, 0, 0, 2, 1])"
      ]
     },
     "execution_count": 40,
     "metadata": {},
     "output_type": "execute_result"
    }
   ],
   "source": [
    "a = np.array([1, 2, 3, 4, 5, 6, 7, 6, 5, 4, 3, 2, 1])\n",
    "a[(a>=3) & (a<=5)] = 0\n",
    "# Mais attention la comparaison ternaire comme 3<a<=8 ne marche pas ici\n",
    "a"
   ]
  },
  {
   "cell_type": "markdown",
   "id": "2c8998ca",
   "metadata": {},
   "source": [
    " ### Utilisation des methodes n.where et .np.clip"
   ]
  },
  {
   "cell_type": "code",
   "execution_count": 41,
   "id": "b902309a",
   "metadata": {
    "scrolled": true
   },
   "outputs": [
    {
     "name": "stdout",
     "output_type": "stream",
     "text": [
      "np.where(a>5) --> (array([ 8,  9, 10], dtype=int64),)\n",
      "np.nonzero(a>5) --> (array([ 8,  9, 10], dtype=int64),)\n"
     ]
    }
   ],
   "source": [
    "a = np.array([1, 2, 3, 4, 5, 0, 0, 0, 6, 7, 6, 5, 4, 3, 2, 1])\n",
    "print(\"np.where(a>5) -->\", np.where(a>5))\n",
    "print(\"np.nonzero(a>5) -->\", np.nonzero(a>5))\n",
    "# Ces 2 methodes retournent les indices\n",
    "# Mais quelle différence entre les deux ????"
   ]
  },
  {
   "cell_type": "markdown",
   "id": "c36a67e3",
   "metadata": {},
   "source": [
    "#### np.where()"
   ]
  },
  {
   "cell_type": "code",
   "execution_count": 42,
   "id": "2a8fbb16",
   "metadata": {},
   "outputs": [
    {
     "name": "stdout",
     "output_type": "stream",
     "text": [
      "[0 0 0 0 1 1 1 1 1 0 0 0 0]\n"
     ]
    }
   ],
   "source": [
    "a = np.array([1, 2, 3, 4, 5, 6, 7, 6, 5, 4, 3, 2, 1])\n",
    "a[a<5] = 0\n",
    "a[a>=5] = 1\n",
    "print(a)"
   ]
  },
  {
   "cell_type": "code",
   "execution_count": 43,
   "id": "d95e251b",
   "metadata": {},
   "outputs": [
    {
     "name": "stdout",
     "output_type": "stream",
     "text": [
      "np.where(a>=5, 1, 0) --> [0 0 0 0 1 1 1 1 1 0 0 0 0]\n"
     ]
    }
   ],
   "source": [
    "# ce code est le même que celui au dessus\n",
    "a = np.array([1, 2, 3, 4, 5, 6, 7, 6, 5, 4, 3, 2, 1])\n",
    "print(\"np.where(a>=5, 1, 0) -->\", np.where(a>=5, 1, 0))"
   ]
  },
  {
   "cell_type": "markdown",
   "id": "cd7b764a",
   "metadata": {},
   "source": [
    "np.where retourne un tuple"
   ]
  },
  {
   "cell_type": "markdown",
   "id": "3a32232b",
   "metadata": {},
   "source": [
    "#### NB: np.where(condition, valeur_à_affectée_pour_ceux_qui_vérifie_la_condition, valeur_à_affectée_pour_ceux_qui_ne_vérifie_pas_la_condition)"
   ]
  },
  {
   "cell_type": "markdown",
   "id": "632d1929",
   "metadata": {},
   "source": [
    "#### np.clip()"
   ]
  },
  {
   "cell_type": "code",
   "execution_count": 44,
   "id": "6dcd18ac",
   "metadata": {},
   "outputs": [
    {
     "name": "stdout",
     "output_type": "stream",
     "text": [
      "[2 2 3 4 5 5 5 5 5 4 3 2 2]\n"
     ]
    }
   ],
   "source": [
    "a = np.array([1, 2, 3, 4, 5, 6, 7, 6, 5, 4, 3, 2, 1])\n",
    "a[a<2] = 2\n",
    "a[a>5] = 5\n",
    "print(a)"
   ]
  },
  {
   "cell_type": "code",
   "execution_count": 45,
   "id": "89fc37fc",
   "metadata": {},
   "outputs": [
    {
     "name": "stdout",
     "output_type": "stream",
     "text": [
      "np.clip(a, 2, 5)--> [2 2 3 4 5 5 5 5 5 4 3 2 2]\n"
     ]
    }
   ],
   "source": [
    "# ce code est le même que celui au dessus\n",
    "a = np.array([1, 2, 3, 4, 5, 6, 7, 6, 5, 4, 3, 2, 1])\n",
    "print(\"np.clip(a, 2, 5)-->\", np.clip(a, 2, 5))"
   ]
  },
  {
   "cell_type": "markdown",
   "id": "2d22e39f",
   "metadata": {},
   "source": [
    "#### NB: np.clip(a, min, max)"
   ]
  },
  {
   "cell_type": "markdown",
   "id": "a3d8b4b9",
   "metadata": {},
   "source": [
    "### Vector Operations"
   ]
  },
  {
   "cell_type": "markdown",
   "id": "2f495b83",
   "metadata": {},
   "source": [
    "#### La plupart des fonctions mathématiques ont des homologues NumPy qui peuvent gérer des vecteurs"
   ]
  },
  {
   "cell_type": "code",
   "execution_count": 46,
   "id": "a8a5667f",
   "metadata": {},
   "outputs": [
    {
     "name": "stdout",
     "output_type": "stream",
     "text": [
      "b**2 --->  [81 16]\n",
      "np.sqrt(b) --->  [3. 2.]\n",
      "np.exp(b) --->  [8103.08392758   54.59815003]\n",
      "np.log(np.array([np.e, np.e**2])) --->  [1. 2.]\n",
      "a produit scalaire b ---> 17\n",
      "a X b ---> -14\n",
      "np.sin(c) ---> [1.2246468e-16 1.0000000e+00]\n",
      "np.arcsin(result) --> [1.22464680e-16 1.57079633e+00]\n",
      "np.arctan2(d1, d2) --> [0.         1.57079633]\n",
      "np.floor(np.array[2.3, 2.5, 2.7]) --> [2. 2. 2.]\n",
      "np.ceil(np.array[2.3, 2.5, 2.7]) --> [3. 3. 3.]\n",
      "np.round(np.array[2.3, 2.5, 2.7]) --> [2. 2. 3.]\n",
      "np.max(a1) --> 3\n",
      "a1.max() --> 3\n",
      "np.min(a1) --> 1\n",
      "a1.sum() --> 6\n",
      "a1.var() --> 0.6666666666666666\n",
      "a1.argmax() --> 2\n",
      "a1.argmin() --> 0\n",
      "a1.mean() --> 2.0\n",
      "a1.std() --> 0.816496580927726\n"
     ]
    }
   ],
   "source": [
    "a = np.array([1, 2])\n",
    "a1 = np.array([1, 2, 3])\n",
    "b = np.array([9, 4])\n",
    "c = np.array([np.pi, np.pi/2])\n",
    "d1 = np.array([0, 1])\n",
    "d2 = np.array([1, 0])\n",
    "e = [2.3, 2.5, 2.7]\n",
    "\n",
    "print(\"b**2 ---> \", b**2)\n",
    "print(\"np.sqrt(b) ---> \", np.sqrt(b))\n",
    "print(\"np.exp(b) ---> \", np.exp(b))\n",
    "print(\"np.log(np.array([np.e, np.e**2])) ---> \", np.log(np.array([np.e, np.e**2])) )\n",
    "print(\"a produit scalaire b --->\", np.dot(a, b))\n",
    "print(\"a X b --->\", np.cross(a, b))\n",
    "print(\"np.sin(c) --->\", np.sin(c))\n",
    "result = np.sin(c)\n",
    "print(\"np.arcsin(result) -->\", np.arcsin(result))\n",
    "print(\"np.arctan2(d1, d2) -->\", np.arctan2(d1, d2))\n",
    "print(\"np.floor(np.array[2.3, 2.5, 2.7]) -->\", np.floor(e))\n",
    "print(\"np.ceil(np.array[2.3, 2.5, 2.7]) -->\", np.ceil(e))\n",
    "print(\"np.round(np.array[2.3, 2.5, 2.7]) -->\", np.round(e))\n",
    "print(\"np.max(a1) -->\", np.max(a1))\n",
    "print(\"a1.max() -->\", a1.max())\n",
    "print(\"np.min(a1) -->\", np.min(a1))\n",
    "print(\"a1.sum() -->\", a1.sum())\n",
    "print(\"a1.var() -->\", a1.var())\n",
    "print(\"a1.argmax() -->\", a1.argmax())\n",
    "print(\"a1.argmin() -->\", a1.argmin())\n",
    "print(\"a1.mean() -->\", a1.mean())\n",
    "print(\"a1.std() -->\", a1.std())"
   ]
  },
  {
   "cell_type": "markdown",
   "id": "1e057b88",
   "metadata": {},
   "source": [
    "#### La standard deviation (ou ecart-type) juste au dessus ignore donne un résultat biaisé dans le cas d'utilisation où la moyenne de la population est inconnue. L'approche standard pour obtenir une estimation moins biaisée est d'avoir n-1 dans le dénominateur, ce qui est fait avec ddof=1 (\"delta degrés de liberté\") :"
   ]
  },
  {
   "cell_type": "code",
   "execution_count": 47,
   "id": "9125799d",
   "metadata": {},
   "outputs": [
    {
     "data": {
      "text/plain": [
       "1.0"
      ]
     },
     "execution_count": 47,
     "metadata": {},
     "output_type": "execute_result"
    }
   ],
   "source": [
    "a1.std(ddof = 1)"
   ]
  },
  {
   "cell_type": "markdown",
   "id": "9e938a0f",
   "metadata": {},
   "source": [
    "L'effet de la correction de Bessel diminue rapidement avec l'augmentation de la taille de l'échantillon. De plus, il ne s'agit pas d'une solution unique, par ex. pour la distribution normale ddof=1.5 est mieux"
   ]
  },
  {
   "cell_type": "code",
   "execution_count": 48,
   "id": "daa5399a",
   "metadata": {},
   "outputs": [
    {
     "name": "stdout",
     "output_type": "stream",
     "text": [
      "a =  -1.7940641423183281\n"
     ]
    },
    {
     "ename": "AttributeError",
     "evalue": "'float' object has no attribute 'std'",
     "output_type": "error",
     "traceback": [
      "\u001b[1;31m---------------------------------------------------------------------------\u001b[0m",
      "\u001b[1;31mAttributeError\u001b[0m                            Traceback (most recent call last)",
      "Input \u001b[1;32mIn [48]\u001b[0m, in \u001b[0;36m<cell line: 5>\u001b[1;34m()\u001b[0m\n\u001b[0;32m      6\u001b[0m a \u001b[38;5;241m=\u001b[39m np\u001b[38;5;241m.\u001b[39mrandom\u001b[38;5;241m.\u001b[39mrandn()\n\u001b[0;32m      7\u001b[0m \u001b[38;5;28mprint\u001b[39m(\u001b[38;5;124m\"\u001b[39m\u001b[38;5;124ma = \u001b[39m\u001b[38;5;124m\"\u001b[39m, a)\n\u001b[1;32m----> 8\u001b[0m \u001b[38;5;28mprint\u001b[39m(\u001b[38;5;124m\"\u001b[39m\u001b[38;5;124mres.append(a.std())\u001b[39m\u001b[38;5;124m\"\u001b[39m, res\u001b[38;5;241m.\u001b[39mappend(\u001b[43ma\u001b[49m\u001b[38;5;241;43m.\u001b[39;49m\u001b[43mstd\u001b[49m())) \u001b[38;5;66;03m#ça ne marche pas\u001b[39;00m\n\u001b[0;32m      9\u001b[0m \u001b[38;5;28mprint\u001b[39m(\u001b[38;5;124m\"\u001b[39m\u001b[38;5;124mres1.append(a.std())\u001b[39m\u001b[38;5;124m\"\u001b[39m, res1\u001b[38;5;241m.\u001b[39mappend(a\u001b[38;5;241m.\u001b[39mstd(ddof \u001b[38;5;241m=\u001b[39m\u001b[38;5;241m1\u001b[39m)))\n\u001b[0;32m     10\u001b[0m \u001b[38;5;28mprint\u001b[39m(\u001b[38;5;124m\"\u001b[39m\u001b[38;5;124mres2.append(a.std())\u001b[39m\u001b[38;5;124m\"\u001b[39m, res2\u001b[38;5;241m.\u001b[39mappend(a\u001b[38;5;241m.\u001b[39mstd(ddof \u001b[38;5;241m=\u001b[39m \u001b[38;5;241m1.5\u001b[39m)))\n",
      "\u001b[1;31mAttributeError\u001b[0m: 'float' object has no attribute 'std'"
     ]
    }
   ],
   "source": [
    "# difference entre std(simple), std avec ddof = 1 et ddof = 1.5\n",
    "res, res1, res2 = [], [], []\n",
    "import random\n",
    "\n",
    "for i in range(10000):\n",
    "    a = np.random.randn()\n",
    "    print(\"a = \", a)\n",
    "    print(\"res.append(a.std())\", res.append(a.std())) #ça ne marche pas\n",
    "    print(\"res1.append(a.std())\", res1.append(a.std(ddof =1)))\n",
    "    print(\"res2.append(a.std())\", res2.append(a.std(ddof = 1.5)))"
   ]
  },
  {
   "cell_type": "markdown",
   "id": "5e6d2c61",
   "metadata": {},
   "source": [
    "#### Quelques fonctions de trie"
   ]
  },
  {
   "cell_type": "markdown",
   "id": "a84d9f02",
   "metadata": {},
   "source": [
    "Elles ont moins de capacités que leurs homologues python"
   ]
  },
  {
   "cell_type": "markdown",
   "id": "30a8bb9b",
   "metadata": {},
   "source": [
    "- Liste python"
   ]
  },
  {
   "cell_type": "code",
   "execution_count": 49,
   "id": "5396e791",
   "metadata": {},
   "outputs": [
    {
     "name": "stdout",
     "output_type": "stream",
     "text": [
      "a.sort() None\n",
      "sorted(a) [1, 2, 3, 6, 10]\n"
     ]
    },
    {
     "ename": "NameError",
     "evalue": "name 'f' is not defined",
     "output_type": "error",
     "traceback": [
      "\u001b[1;31m---------------------------------------------------------------------------\u001b[0m",
      "\u001b[1;31mNameError\u001b[0m                                 Traceback (most recent call last)",
      "Input \u001b[1;32mIn [49]\u001b[0m, in \u001b[0;36m<cell line: 4>\u001b[1;34m()\u001b[0m\n\u001b[0;32m      2\u001b[0m \u001b[38;5;28mprint\u001b[39m(\u001b[38;5;124m\"\u001b[39m\u001b[38;5;124ma.sort()\u001b[39m\u001b[38;5;124m\"\u001b[39m, a\u001b[38;5;241m.\u001b[39msort())\n\u001b[0;32m      3\u001b[0m \u001b[38;5;28mprint\u001b[39m(\u001b[38;5;124m\"\u001b[39m\u001b[38;5;124msorted(a)\u001b[39m\u001b[38;5;124m\"\u001b[39m,\u001b[38;5;28msorted\u001b[39m(a))\n\u001b[1;32m----> 4\u001b[0m \u001b[38;5;28mprint\u001b[39m(\u001b[38;5;124m\"\u001b[39m\u001b[38;5;124ma.sort(key=f)\u001b[39m\u001b[38;5;124m\"\u001b[39m, a\u001b[38;5;241m.\u001b[39msort(key\u001b[38;5;241m=\u001b[39m\u001b[43mf\u001b[49m)) \u001b[38;5;66;03m#Pourquoi la clé f ne marche pas?\u001b[39;00m\n\u001b[0;32m      5\u001b[0m \u001b[38;5;28mprint\u001b[39m(\u001b[38;5;124m\"\u001b[39m\u001b[38;5;124ma.sort(reversed=False)\u001b[39m\u001b[38;5;124m\"\u001b[39m, a\u001b[38;5;241m.\u001b[39msort(\u001b[38;5;28mreversed\u001b[39m\u001b[38;5;241m=\u001b[39m\u001b[38;5;28;01mFalse\u001b[39;00m))\n",
      "\u001b[1;31mNameError\u001b[0m: name 'f' is not defined"
     ]
    }
   ],
   "source": [
    "a = [1, 2, 3, 6, 10]\n",
    "print(\"a.sort()\", a.sort())\n",
    "print(\"sorted(a)\",sorted(a))\n",
    "print(\"a.sort(key=f)\", a.sort(key=f)) #Pourquoi la clé f ne marche pas?\n",
    "print(\"a.sort(reversed=False)\", a.sort(reversed=False))"
   ]
  },
  {
   "cell_type": "markdown",
   "id": "ef8b30f4",
   "metadata": {},
   "source": [
    "- array de numpy"
   ]
  },
  {
   "cell_type": "code",
   "execution_count": 50,
   "id": "6611ddd9",
   "metadata": {},
   "outputs": [
    {
     "name": "stdout",
     "output_type": "stream",
     "text": [
      "a.sort() None\n",
      "np.sort(a) [ 1  2  3  6 10]\n"
     ]
    }
   ],
   "source": [
    "a = np.array([1, 2, 3, 6, 10])\n",
    "print(\"a.sort()\", a.sort())\n",
    "print(\"np.sort(a)\",np.sort(a))"
   ]
  },
  {
   "cell_type": "markdown",
   "id": "f73c9f91",
   "metadata": {},
   "source": [
    "### Recherche d'element dans un vecteur"
   ]
  },
  {
   "cell_type": "markdown",
   "id": "e2137ae4",
   "metadata": {},
   "source": [
    "Avec Numpy pas de methode index comme avec les listes"
   ]
  },
  {
   "cell_type": "code",
   "execution_count": 51,
   "id": "86be5953",
   "metadata": {},
   "outputs": [
    {
     "name": "stderr",
     "output_type": "stream",
     "text": [
      "<>:2: SyntaxWarning: 'int' object is not subscriptable; perhaps you missed a comma?\n",
      "<>:2: SyntaxWarning: 'int' object is not subscriptable; perhaps you missed a comma?\n",
      "C:\\Users\\Oussou\\AppData\\Local\\Temp\\ipykernel_7356\\161692067.py:2: SyntaxWarning: 'int' object is not subscriptable; perhaps you missed a comma?\n",
      "  a.index(2[ i[ j]]) #La 1ère occurence de x entre l'indice x et y\n",
      "C:\\Users\\Oussou\\AppData\\Local\\Temp\\ipykernel_7356\\161692067.py:2: SyntaxWarning: 'int' object is not subscriptable; perhaps you missed a comma?\n",
      "  a.index(2[ i[ j]]) #La 1ère occurence de x entre l'indice x et y\n",
      "C:\\Users\\Oussou\\AppData\\Local\\Temp\\ipykernel_7356\\161692067.py:2: SyntaxWarning: 'int' object is not subscriptable; perhaps you missed a comma?\n",
      "  a.index(2[ i[ j]]) #La 1ère occurence de x entre l'indice x et y\n"
     ]
    },
    {
     "ename": "NameError",
     "evalue": "name 'j' is not defined",
     "output_type": "error",
     "traceback": [
      "\u001b[1;31m---------------------------------------------------------------------------\u001b[0m",
      "\u001b[1;31mNameError\u001b[0m                                 Traceback (most recent call last)",
      "Input \u001b[1;32mIn [51]\u001b[0m, in \u001b[0;36m<cell line: 2>\u001b[1;34m()\u001b[0m\n\u001b[0;32m      1\u001b[0m a \u001b[38;5;241m=\u001b[39m [\u001b[38;5;241m1\u001b[39m, \u001b[38;5;241m2\u001b[39m, \u001b[38;5;241m3\u001b[39m, \u001b[38;5;241m4\u001b[39m, \u001b[38;5;241m67\u001b[39m]\n\u001b[1;32m----> 2\u001b[0m a\u001b[38;5;241m.\u001b[39mindex(\u001b[38;5;241m2\u001b[39m[ i[ \u001b[43mj\u001b[49m]])\n",
      "\u001b[1;31mNameError\u001b[0m: name 'j' is not defined"
     ]
    }
   ],
   "source": [
    "a = [1, 2, 3, 4, 67]\n",
    "a.index(2[ i[ j]]) #La 1ère occurence de x entre l'indice x et y\n",
    "#ça ne marche pas"
   ]
  },
  {
   "cell_type": "code",
   "execution_count": 52,
   "id": "3a93ebf2",
   "metadata": {},
   "outputs": [
    {
     "ename": "IndexError",
     "evalue": "index 0 is out of bounds for axis 0 with size 0",
     "output_type": "error",
     "traceback": [
      "\u001b[1;31m---------------------------------------------------------------------------\u001b[0m",
      "\u001b[1;31mIndexError\u001b[0m                                Traceback (most recent call last)",
      "Input \u001b[1;32mIn [52]\u001b[0m, in \u001b[0;36m<cell line: 2>\u001b[1;34m()\u001b[0m\n\u001b[0;32m      1\u001b[0m a \u001b[38;5;241m=\u001b[39m np\u001b[38;5;241m.\u001b[39marray([\u001b[38;5;241m1\u001b[39m, \u001b[38;5;241m2\u001b[39m, \u001b[38;5;241m3\u001b[39m, \u001b[38;5;241m6\u001b[39m, \u001b[38;5;241m10\u001b[39m])\n\u001b[1;32m----> 2\u001b[0m \u001b[43mnp\u001b[49m\u001b[38;5;241;43m.\u001b[39;49m\u001b[43mwhere\u001b[49m\u001b[43m(\u001b[49m\u001b[43ma\u001b[49m\u001b[38;5;241;43m==\u001b[39;49m\u001b[38;5;241;43m0\u001b[39;49m\u001b[43m)\u001b[49m\u001b[43m[\u001b[49m\u001b[38;5;241;43m0\u001b[39;49m\u001b[43m]\u001b[49m\u001b[43m[\u001b[49m\u001b[38;5;241;43m0\u001b[39;49m\u001b[43m]\u001b[49m\n\u001b[0;32m      3\u001b[0m \u001b[38;5;28mnext\u001b[39m(i[\u001b[38;5;241m0\u001b[39m] \u001b[38;5;28;01mfor\u001b[39;00m i, v \u001b[38;5;129;01min\u001b[39;00m np\u001b[38;5;241m.\u001b[39mndenumerate(a) \u001b[38;5;28;01mif\u001b[39;00m v\u001b[38;5;241m==\u001b[39mx)\n\u001b[0;32m      4\u001b[0m np\u001b[38;5;241m.\u001b[39msearchsorted(a, x)\n",
      "\u001b[1;31mIndexError\u001b[0m: index 0 is out of bounds for axis 0 with size 0"
     ]
    }
   ],
   "source": [
    "a = np.array([1, 2, 3, 6, 10])\n",
    "np.where(a==0)[0][0]\n",
    "next(i[0] for i, v in np.ndenumerate(a) if v==x)\n",
    "np.searchsorted(a, x)\n",
    "#ça ne marche pas non plus"
   ]
  },
  {
   "cell_type": "markdown",
   "id": "3d634b96",
   "metadata": {},
   "source": [
    "#### Comparaison des réels"
   ]
  },
  {
   "cell_type": "code",
   "execution_count": 53,
   "id": "af886c96",
   "metadata": {},
   "outputs": [
    {
     "name": "stdout",
     "output_type": "stream",
     "text": [
      "0.1 + 0.2 == 0.3 --> False\n",
      "np.allclose --> True\n",
      "math.isclose --> True\n"
     ]
    }
   ],
   "source": [
    "import math\n",
    "print(\"0.1 + 0.2 == 0.3 -->\", 0.1 + 0.2 == 0.3)\n",
    "print(\"np.allclose -->\", np.allclose(0.1 + 0.2, 0.3))\n",
    "print(\"math.isclose -->\", math.isclose(0.1 + 0.2, 0.3))"
   ]
  },
  {
   "cell_type": "markdown",
   "id": "ad2115ed",
   "metadata": {},
   "source": [
    "##### NB: Un problème mineur dans np.allclose : np.allclose(a, b) != np.allclose(b, a)\n",
    "Ce problème fut resolu avec la venu de np.isclose()\n",
    "- Remarque: Je n'ai toujours pas pigé la difference entre ces 2"
   ]
  },
  {
   "cell_type": "markdown",
   "id": "37827a1c",
   "metadata": {},
   "source": [
    "## 3-Les Matrices 2D"
   ]
  },
  {
   "cell_type": "markdown",
   "id": "de4abd96",
   "metadata": {},
   "source": [
    "#### 3_1-Leur initialisation est simulaire à celle des vecteurs"
   ]
  },
  {
   "cell_type": "code",
   "execution_count": null,
   "id": "e6ae5283",
   "metadata": {},
   "outputs": [],
   "source": [
    "print(\"a = [[1, 2, 3], [4, 5, 6]] --> \",[[1, 2, 3], [4, 5, 6]])\n",
    "print(\"- np.zeros((3, 2)) \\n\", np.zeros((3, 2)))\n",
    "print(\"- np.full((3, 2), 7) \\n\", np.full((3, 2), 7))\n",
    "print(\"- np.ones((3, 2)) \\n\", np.ones((3, 2)))\n",
    "print(\"- np.empty((3, 2)) \\n\", np.empty((3, 2)))\n",
    "print(\"- np.eye((3, 3)) \\n\", np.eye(3, 3)) # np.eye((3, 3)) = np.eye(3)\n"
   ]
  },
  {
   "cell_type": "markdown",
   "id": "b75f005e",
   "metadata": {},
   "source": [
    "#### 3_2-Génération de matrices aléatoires"
   ]
  },
  {
   "cell_type": "code",
   "execution_count": 24,
   "id": "c028ad8b",
   "metadata": {},
   "outputs": [
    {
     "name": "stdout",
     "output_type": "stream",
     "text": [
      "- randint\n",
      " [[6 0]\n",
      " [8 8]\n",
      " [7 3]] \n",
      "\n",
      "- rand\n",
      " [[0.28605651 0.9666053 ]\n",
      " [0.94768163 0.58453476]\n",
      " [0.0885823  0.28079916]] \n",
      "\n",
      "- Uniform\n",
      " [[7.52539997 3.82751233]\n",
      " [9.7059113  6.32767259]\n",
      " [2.90038327 4.37678983]] \n",
      "\n",
      "- normal\n",
      " [[10.75973766 10.49249071]\n",
      " [12.06039762 10.69401613]\n",
      " [10.72753609  8.41823291]] \n",
      "\n",
      "- normal\n",
      " [[15.0480693   9.84757007]\n",
      " [10.62654122 10.78907531]\n",
      " [ 5.40192337  9.01965982]] \n",
      "\n",
      "- randn\n",
      " [[-0.04005215 -0.97042269]\n",
      " [ 0.55060281  2.25214307]\n",
      " [-1.69633278 -1.85248193]] \n",
      "\n"
     ]
    }
   ],
   "source": [
    "print(\"- randint\\n\", np.random.randint(0, 10, (3, 2)), \"\\n\")\n",
    "print(\"- rand\\n\", np.random.rand(3, 2), \"\\n\")\n",
    "print(\"- Uniform\\n\", np.random.uniform(1, 10, (3, 2)), \"\\n\")\n",
    "print(\"- normal\\n\", np.random.normal(10, 2, (3, 2)), \"\\n\")\n",
    "print(\"- normal\\n\", np.random.normal(10, 2, (3, 2)), \"\\n\")\n",
    "print(\"- randn\\n\", np.random.randn(3, 2), \"\\n\")"
   ]
  },
  {
   "cell_type": "code",
   "execution_count": 25,
   "id": "5fae4285",
   "metadata": {},
   "outputs": [
    {
     "name": "stdout",
     "output_type": "stream",
     "text": [
      "integers -->  [9 5 1]\n",
      "random --> [0.30273073 0.12902459 0.03428689]\n",
      "standard_normal --> [ 0.8861127  -0.46362586 -0.04700492]\n"
     ]
    }
   ],
   "source": [
    "rng = np.random.default_rng()\n",
    "print(\"integers --> \", rng.integers(0, 10, 3))\n",
    "print(\"random -->\", rng.random(3))\n",
    "print(\"standard_normal -->\", rng.standard_normal(3))"
   ]
  },
  {
   "cell_type": "markdown",
   "id": "1d1f0ca7",
   "metadata": {},
   "source": [
    "##### L'indexage en 2D est plus pratique qu'en les liste imbriquées"
   ]
  },
  {
   "cell_type": "code",
   "execution_count": 26,
   "id": "84825c68",
   "metadata": {},
   "outputs": [
    {
     "name": "stdout",
     "output_type": "stream",
     "text": [
      "- a\n",
      " [[ 1  2  3  4]\n",
      " [ 5  6  7  8]\n",
      " [ 9 10 11 12]] \n",
      "\n",
      "- a[1,:]\n",
      " [5 6 7 8] \n",
      "\n",
      "- a[:,2]\n",
      " [ 3  7 11] \n",
      "\n",
      "- a[:,2:3]\n",
      " [[ 3]\n",
      " [ 7]\n",
      " [11]] \n",
      "\n",
      "- a[-2:,-2:]\n",
      " [[ 7  8]\n",
      " [11 12]] \n",
      "\n",
      "- a[::2:,1::2]\n",
      " [[ 2  4]\n",
      " [10 12]] \n",
      "\n"
     ]
    }
   ],
   "source": [
    "a = np.array([[1, 2, 3, 4], [5, 6, 7, 8], [9, 10, 11, 12]])\n",
    "print(\"- a\\n\", a, \"\\n\")\n",
    "print(\"- a[1,:]\\n\", a[1,:], \"\\n\")\n",
    "print(\"- a[:,2]\\n\", a[:,2], \"\\n\")\n",
    "print(\"- a[:,2:3]\\n\", a[:,2:3], \"\\n\")\n",
    "print(\"- a[-2:,-2:]\\n\", a[-2:,-2:], \"\\n\")\n",
    "print(\"- a[::2:,1::2]\\n\", a[::2,1::2], \"\\n\") # a[start:end:step]"
   ]
  },
  {
   "cell_type": "markdown",
   "id": "d445a591",
   "metadata": {},
   "source": [
    "#### The axis argument"
   ]
  },
  {
   "cell_type": "code",
   "execution_count": 27,
   "id": "27a74039",
   "metadata": {},
   "outputs": [
    {
     "name": "stdout",
     "output_type": "stream",
     "text": [
      "a.sum() --> 21\n",
      "a.sum(axis = 0) --> [5 7 9]\n",
      "a.sum(axis = 1) --> [ 6 15]\n"
     ]
    }
   ],
   "source": [
    "a = np.array([[1, 2, 3], [4, 5, 6]])\n",
    "print(\"a.sum() -->\", a.sum())\n",
    "print(\"a.sum(axis = 0) -->\", a.sum(axis = 0)) # Pour les lignes\n",
    "print(\"a.sum(axis = 1) -->\", a.sum(axis = 1)) # Pour les colonnes\n"
   ]
  },
  {
   "cell_type": "code",
   "execution_count": 28,
   "id": "9a00c2a8",
   "metadata": {},
   "outputs": [
    {
     "name": "stdout",
     "output_type": "stream",
     "text": [
      "Einstein Sommation -->\n",
      "np.einsum('ij->i', a)\n",
      " [ 6 15]\n"
     ]
    }
   ],
   "source": [
    "# EinsSum\n",
    "print(\"Einstein Sommation -->\\nnp.einsum('ij->i', a)\\n\", np.einsum('ij->i', a))"
   ]
  },
  {
   "cell_type": "markdown",
   "id": "f4bdb304",
   "metadata": {},
   "source": [
    "#### Arithmetique des matrices"
   ]
  },
  {
   "cell_type": "code",
   "execution_count": 29,
   "id": "3b6f68f0",
   "metadata": {},
   "outputs": [
    {
     "name": "stdout",
     "output_type": "stream",
     "text": [
      "- a+b -->\n",
      " [[ 2  2  3]\n",
      " [ 4  6  6]\n",
      " [ 7  8 10]] \n",
      "\n",
      "- a-b -->\n",
      " [[0 2 3]\n",
      " [4 4 6]\n",
      " [7 8 8]] \n",
      "\n",
      "- a*b -->\n",
      " [[1 0 0]\n",
      " [0 5 0]\n",
      " [0 0 9]] \n",
      "\n",
      "- a@b -->\n",
      " [[1 2 3]\n",
      " [4 5 6]\n",
      " [7 8 9]] \n",
      "\n",
      "- a*b -->\n",
      " [[1 1 1]\n",
      " [1 5 1]\n",
      " [1 1 9]] \n",
      "\n",
      "- a/b -->\n",
      " [[ 1. inf inf]\n",
      " [inf  5. inf]\n",
      " [inf inf  9.]] \n",
      "\n"
     ]
    },
    {
     "name": "stderr",
     "output_type": "stream",
     "text": [
      "C:\\Users\\Oussou\\AppData\\Local\\Temp\\ipykernel_6268\\3829367878.py:8: RuntimeWarning: divide by zero encountered in true_divide\n",
      "  print(\"- a/b -->\\n\", a/b, \"\\n\")\n"
     ]
    }
   ],
   "source": [
    "a = np.array([[1, 2, 3], [4, 5, 6], [7, 8, 9]])\n",
    "b = np.array([[1, 0, 0], [0, 1, 0], [0, 0, 1]])\n",
    "print(\"- a+b -->\\n\", a+b, \"\\n\")\n",
    "print(\"- a-b -->\\n\", a-b, \"\\n\")\n",
    "print(\"- a*b -->\\n\", a*b, \"\\n\")\n",
    "print(\"- a@b -->\\n\", a@b, \"\\n\")\n",
    "print(\"- a*b -->\\n\", a**b, \"\\n\")\n",
    "print(\"- a/b -->\\n\", a/b, \"\\n\")"
   ]
  },
  {
   "cell_type": "code",
   "execution_count": 30,
   "id": "0d99cfbc",
   "metadata": {},
   "outputs": [
    {
     "name": "stdout",
     "output_type": "stream",
     "text": [
      "- a.T\n",
      " [[1 5]\n",
      " [2 6]\n",
      " [3 7]\n",
      " [4 8]] \n",
      "\n",
      "- a.reshape(-1, 2)\n",
      " [[1 2]\n",
      " [3 4]\n",
      " [5 6]\n",
      " [7 8]] \n",
      "\n",
      "- b.T\n",
      " [[1 2]\n",
      " [3 4]\n",
      " [5 6]] \n",
      "\n",
      "- b[None, :]\n",
      " [[[1 2 3 4 5 6]]] \n",
      "\n"
     ]
    }
   ],
   "source": [
    "a = np.array([[1, 2, 3, 4], [5, 6, 7, 8]])\n",
    "b = np.array([[1, 2, 3, 4, 5, 6]])\n",
    "print(\"- a.T\\n\", a.T, \"\\n\")\n",
    "print(\"- a.reshape(-1, 2)\\n\", a.reshape(-1, 2), \"\\n\")\n",
    "print(\"- b.T\\n\", b.reshape(3, 2), \"\\n\")\n",
    "print(\"- b[None, :]\\n\", b[None, :], \"\\n\")\n"
   ]
  },
  {
   "cell_type": "code",
   "execution_count": 31,
   "id": "6801f3de",
   "metadata": {},
   "outputs": [
    {
     "name": "stdout",
     "output_type": "stream",
     "text": [
      "b.flatten()\n",
      " [1 2 3 4 5 6]\n",
      "b.reshape(-1)\n",
      " [1 2 3 4 5 6]\n",
      "(b.T).squeeze()\n",
      " [1 2 3 4 5 6]\n",
      "np.ravel(b)\n",
      " [1 2 3 4 5 6]\n"
     ]
    }
   ],
   "source": [
    "print(\"b.flatten()\\n\", b.flatten())\n",
    "print(\"b.reshape(-1)\\n\", b.reshape(-1))\n",
    "print(\"(b.T).squeeze()\\n\", (b.T).squeeze())\n",
    "print(\"np.ravel(b)\\n\", np.ravel(b))"
   ]
  },
  {
   "cell_type": "markdown",
   "id": "9bd9b1c8",
   "metadata": {},
   "source": [
    "#### join arrays"
   ]
  },
  {
   "cell_type": "code",
   "execution_count": 32,
   "id": "1bac1641",
   "metadata": {},
   "outputs": [
    {
     "name": "stdout",
     "output_type": "stream",
     "text": [
      "-hstack: \n",
      " [[ 1  2  3  4  1  2]\n",
      " [ 5  6  7  8  3  4]\n",
      " [ 9 10 11 12  5  6]]\n",
      "\n",
      "-vstack: \n",
      " [[ 1  2  3  4]\n",
      " [ 5  6  7  8]\n",
      " [ 9 10 11 12]\n",
      " [ 1  2  3  4]\n",
      " [ 5  6  7  8]]\n"
     ]
    }
   ],
   "source": [
    "a = np.array([[1, 2, 3, 4], [5, 6, 7, 8], [9, 10, 11, 12]])\n",
    "b = b.reshape(-1, 2)\n",
    "c = np.array([[1, 2, 3, 4, 5, 6, 7, 8]])\n",
    "\n",
    "print(\"-hstack: \\n\", np.hstack((a, b)))\n",
    "print(\"\\n-vstack: \\n\", np.vstack((a,c.reshape(2, -1))))"
   ]
  },
  {
   "cell_type": "code",
   "execution_count": 33,
   "id": "f3d0bf98",
   "metadata": {},
   "outputs": [
    {
     "name": "stdout",
     "output_type": "stream",
     "text": [
      "- hstack(a, c)\n",
      " [[ 1  2  3  4  1]\n",
      " [ 5  6  7  8  3]\n",
      " [ 9 10 11 12  5]]\n",
      "\n",
      "- vstack(a, b)\n",
      " [[ 1  2  3  4]\n",
      " [ 5  6  7  8]\n",
      " [ 9 10 11 12]\n",
      " [ 1  2  3  4]]\n"
     ]
    }
   ],
   "source": [
    "a = np.array([[1, 2, 3, 4], [5, 6, 7, 8], [9, 10, 11, 12]])\n",
    "b = np.array([1, 2, 3, 4])\n",
    "c = np.array([1, 3, 5])\n",
    "c = c.T\n",
    "jointure_hor =np.hstack((a, c[:, None]))\n",
    "jointure_ver = np.vstack((a, b))\n",
    "print(\"- hstack(a, c)\\n\", jointure_hor) # <=> np.column_stack((a, c))\n",
    "print(\"\\n- vstack(a, b)\\n\", jointure_ver)"
   ]
  },
  {
   "cell_type": "markdown",
   "id": "a9fe02f1",
   "metadata": {},
   "source": [
    "#### Le contraire de (hstack et vstack) la jointure est --> hsplit() et vsplit()\n",
    "- si hstack() est la fonction alors nous pôuvons considerer hsplit() comme sa bijection\n",
    "- De meme pour vstack() et vsplit()"
   ]
  },
  {
   "cell_type": "code",
   "execution_count": 34,
   "id": "2904549b",
   "metadata": {},
   "outputs": [
    {
     "name": "stdout",
     "output_type": "stream",
     "text": [
      "- hsplit()\n",
      "a:\n",
      " [[ 1  2  3  4]\n",
      " [ 5  6  7  8]\n",
      " [ 9 10 11 12]]\n",
      "c:\n",
      " [[1]\n",
      " [3]\n",
      " [5]]\n",
      "\n",
      "- vsplit()\n",
      "a:\n",
      " [[ 1  2  3  4]\n",
      " [ 5  6  7  8]\n",
      " [ 9 10 11 12]]\n",
      "b:\n",
      " [[1 2 3 4]]\n"
     ]
    }
   ],
   "source": [
    "a, c = np.hsplit(jointure_hor, [4])\n",
    "a, b = np.vsplit(jointure_ver, [3])\n",
    "print(\"- hsplit()\")\n",
    "print(\"a:\\n\", a)\n",
    "print(\"c:\\n\", c)\n",
    "print(\"\\n- vsplit()\")\n",
    "print(\"a:\\n\", a)\n",
    "print(\"b:\\n\", b)\n"
   ]
  },
  {
   "cell_type": "code",
   "execution_count": 35,
   "id": "cc02a709",
   "metadata": {},
   "outputs": [
    {
     "name": "stdout",
     "output_type": "stream",
     "text": [
      "h:\n",
      " [[ 9  4  4 11  5  2]\n",
      " [ 8  8  4 10  1  1]\n",
      " [ 6  8  2  9 12  7]]\n",
      "\n",
      "-np.hsplit(h, [4])\n",
      "a:\n",
      " [[ 9  4  4 11]\n",
      " [ 8  8  4 10]\n",
      " [ 6  8  2  9]]\n",
      "c:\n",
      " [[ 5  2]\n",
      " [ 1  1]\n",
      " [12  7]]\n"
     ]
    }
   ],
   "source": [
    "h = np.random.randint(1, 13, (3,6))\n",
    "print(\"h:\\n\", h)\n",
    "a, c = np.hsplit(h, [4])\n",
    "print(\"\\n-np.hsplit(h, [4])\")\n",
    "print(\"a:\\n\", a)\n",
    "print(\"c:\\n\", c)\n"
   ]
  },
  {
   "cell_type": "code",
   "execution_count": 36,
   "id": "c2a4f2fd",
   "metadata": {},
   "outputs": [
    {
     "name": "stdout",
     "output_type": "stream",
     "text": [
      "h:\n",
      " [[ 9  4  4 11  5  2]\n",
      " [ 8  8  4 10  1  1]\n",
      " [ 6  8  2  9 12  7]]\n",
      "\n",
      "-np.hsplit(h, [3, 4])\n",
      "a:\n",
      " [[9 4 4]\n",
      " [8 8 4]\n",
      " [6 8 2]]\n",
      "b:\n",
      " [[11]\n",
      " [10]\n",
      " [ 9]]\n",
      "c:\n",
      " [[ 5  2]\n",
      " [ 1  1]\n",
      " [12  7]]\n"
     ]
    }
   ],
   "source": [
    "print(\"h:\\n\", h)\n",
    "a, b, c = np.hsplit(h, [3, 4])\n",
    "print(\"\\n-np.hsplit(h, [3, 4])\")\n",
    "print(\"a:\\n\", a)\n",
    "print(\"b:\\n\", b)\n",
    "print(\"c:\\n\", c)"
   ]
  },
  {
   "cell_type": "code",
   "execution_count": 37,
   "id": "7758ae39",
   "metadata": {},
   "outputs": [
    {
     "name": "stdout",
     "output_type": "stream",
     "text": [
      "h:\n",
      " [[ 9  4  4 11  5  2]\n",
      " [ 8  8  4 10  1  1]\n",
      " [ 6  8  2  9 12  7]]\n",
      "\n",
      "-np.hsplit(h, 3)\n",
      "a:\n",
      " [[9 4]\n",
      " [8 8]\n",
      " [6 8]]\n",
      "b:\n",
      " [[ 4 11]\n",
      " [ 4 10]\n",
      " [ 2  9]]\n",
      "c:\n",
      " [[ 5  2]\n",
      " [ 1  1]\n",
      " [12  7]]\n"
     ]
    }
   ],
   "source": [
    "print(\"h:\\n\", h)\n",
    "a, b, c = np.hsplit(h, 3)\n",
    "print(\"\\n-np.hsplit(h, 3)\")\n",
    "print(\"a:\\n\", a)\n",
    "print(\"b:\\n\", b)\n",
    "print(\"c:\\n\", c)"
   ]
  },
  {
   "cell_type": "markdown",
   "id": "ad11e5fd",
   "metadata": {},
   "source": [
    "#### - Duplication de matrice"
   ]
  },
  {
   "cell_type": "code",
   "execution_count": 38,
   "id": "3c43f070",
   "metadata": {},
   "outputs": [
    {
     "name": "stdout",
     "output_type": "stream",
     "text": [
      "- np.tile\n",
      " [[1 2 1 2 1 2]\n",
      " [3 4 3 4 3 4]\n",
      " [1 2 1 2 1 2]\n",
      " [3 4 3 4 3 4]]\n"
     ]
    }
   ],
   "source": [
    "a = np.array([[1, 2,],[ 3, 4]])\n",
    "print(\"- np.tile\\n\", np.tile(a, (2, 3)))"
   ]
  },
  {
   "cell_type": "code",
   "execution_count": 39,
   "id": "99febdd8",
   "metadata": {},
   "outputs": [
    {
     "name": "stdout",
     "output_type": "stream",
     "text": [
      "- b = a.repeat(3,axis=1)\n",
      " [[1 1 1 2 2 2]\n",
      " [3 3 3 4 4 4]]\n",
      "\n",
      "- b.repeat(2, axis=0)\n",
      " [[1 1 1 2 2 2]\n",
      " [1 1 1 2 2 2]\n",
      " [3 3 3 4 4 4]\n",
      " [3 3 3 4 4 4]]\n"
     ]
    }
   ],
   "source": [
    "a = np.array([[1, 2,],[ 3, 4]])\n",
    "b = a.repeat(3, axis=1)\n",
    "print(\"- b = a.repeat(3,axis=1)\\n\", b)\n",
    "print(\"\\n- b.repeat(2, axis=0)\\n\", b.repeat(2, axis=0))\n"
   ]
  },
  {
   "cell_type": "markdown",
   "id": "c5dbf3e8",
   "metadata": {},
   "source": [
    "- delete"
   ]
  },
  {
   "cell_type": "code",
   "execution_count": 40,
   "id": "f3d69dc4",
   "metadata": {},
   "outputs": [
    {
     "name": "stdout",
     "output_type": "stream",
     "text": [
      "a:\n",
      " [[ 1  2  3  4  5]\n",
      " [ 6  7  8  9 10]\n",
      " [11 12 13 14 15]]\n",
      "\n",
      "- np.delete(a, [1, 3], axis=1)\n",
      " [[ 1  3  5]\n",
      " [ 6  8 10]\n",
      " [11 13 15]]\n",
      "\n",
      "- np.delete(a, 1, axis=0)\n",
      " [[ 1  2  3  4  5]\n",
      " [11 12 13 14 15]]\n",
      "\n",
      "- np.delete(a, np.s_[1:-1], axis=1)\n",
      " [[ 1  5]\n",
      " [ 6 10]\n",
      " [11 15]]\n",
      "\n",
      "- np.delete(a, slice(1, -1), axis=1)\n",
      " [[ 1  5]\n",
      " [ 6 10]\n",
      " [11 15]]\n"
     ]
    }
   ],
   "source": [
    "a = np.arange(1, 16)\n",
    "a = a.reshape(3, 5)\n",
    "print(\"a:\\n\", a)\n",
    "\n",
    "print(\"\\n- np.delete(a, [1, 3], axis=1)\\n\", np.delete(a, [1, 3], axis=1))\n",
    "print(\"\\n- np.delete(a, 1, axis=0)\\n\", np.delete(a, 1, axis=0))\n",
    "print(\"\\n- np.delete(a, np.s_[1:-1], axis=1)\\n\", np.delete(a, np.s_[1:-1], axis=1))\n",
    "print(\"\\n- np.delete(a, slice(1, -1), axis=1)\\n\", np.delete(a, slice(1, -1), axis=1))\n"
   ]
  },
  {
   "cell_type": "markdown",
   "id": "6d3cad8d",
   "metadata": {},
   "source": [
    "- Insert"
   ]
  },
  {
   "cell_type": "code",
   "execution_count": 41,
   "id": "64b7f0cd",
   "metadata": {},
   "outputs": [
    {
     "name": "stdout",
     "output_type": "stream",
     "text": [
      "h:\n",
      " [[ 1  3  5]\n",
      " [ 7  9 11]\n",
      " [13 15 17]]\n",
      "\n",
      "- np.insert(h, [1, 2], 0, axis=1)\n",
      " [[ 1  0  3  0  5]\n",
      " [ 7  0  9  0 11]\n",
      " [13  0 15  0 17]]\n"
     ]
    }
   ],
   "source": [
    "h = np.arange(1, 18, 2)\n",
    "h = h.reshape(3, 3)\n",
    "\n",
    "print(\"h:\\n\", h)\n",
    "print(\"\\n- np.insert(h, [1, 2], 0, axis=1)\\n\", np.insert(h, [1, 2], 0, axis=1))"
   ]
  },
  {
   "cell_type": "code",
   "execution_count": 42,
   "id": "92297e7b",
   "metadata": {},
   "outputs": [
    {
     "name": "stdout",
     "output_type": "stream",
     "text": [
      "v:\n",
      " [[ 1  2  3  4  5]\n",
      " [ 6  7  8  9 10]]\n",
      "\n",
      "- np.insert(v, 1, 7, axis=0)\n",
      " [[ 1  2  3  4  5]\n",
      " [ 7  7  7  7  7]\n",
      " [ 6  7  8  9 10]]\n"
     ]
    }
   ],
   "source": [
    "v = np.arange(1, 11)\n",
    "v = v.reshape(2, 5)\n",
    "print(\"v:\\n\", v)\n",
    "print(\"\\n- np.insert(v, 1, 7, axis=0)\\n\", np.insert(v, 1, 7, axis=0))\n"
   ]
  },
  {
   "cell_type": "code",
   "execution_count": 43,
   "id": "57a2f8d8",
   "metadata": {},
   "outputs": [
    {
     "name": "stdout",
     "output_type": "stream",
     "text": [
      "u:\n",
      " [[ 6  2]\n",
      " [ 8  8]\n",
      " [11  7]]\n",
      "\n",
      "w:\n",
      " [[ 2 10 12]\n",
      " [15 11  1]\n",
      " [14  6  3]]\n",
      "\n",
      "- np.insert(u, [1], w, axis=1)\n",
      " [[ 6  2 10 12  2]\n",
      " [ 8 15 11  1  8]\n",
      " [11 14  6  3  7]]\n"
     ]
    }
   ],
   "source": [
    "u = np.random.randint(1, 16, (3, 2))\n",
    "w = np.random.randint(1, 16, (3, 3))\n",
    "print(\"u:\\n\", u)\n",
    "print(\"\\nw:\\n\", w)\n",
    "print(\"\\n- np.insert(u, [1], w, axis=1)\\n\", np.insert(u, [1], w, axis=1))\n"
   ]
  },
  {
   "cell_type": "markdown",
   "id": "29a6b4a6",
   "metadata": {},
   "source": [
    "- append() pour ajouter des valeurs constantes à la fin du tableau ne marche"
   ]
  },
  {
   "cell_type": "code",
   "execution_count": 88,
   "id": "57640f44",
   "metadata": {},
   "outputs": [
    {
     "name": "stdout",
     "output_type": "stream",
     "text": [
      "a:\n",
      " [[14  4 12  6  2]\n",
      " [10  7 12 13  6]\n",
      " [11  4  8  3  7]]\n",
      "\n",
      "- np.append(a, np.ones(5), axis=0)\n",
      " [[14.  4. 12.  6.  2.]\n",
      " [10.  7. 12. 13.  6.]\n",
      " [11.  4.  8.  3.  7.]\n",
      " [ 1.  1.  1.  1.  1.]]\n"
     ]
    }
   ],
   "source": [
    "a = np.random.randint(1, 16, (3, 5))\n",
    "# a = (np.arange(1, 16)).reshape(3, 5)\n",
    "# a = np.array([[1, 2, 3, 4, 5], [6, 7, 8, 9, 10], [11, 12, 13, 14, 15]])\n",
    "print(\"a:\\n\", a)\n",
    "b = np.ones(5).reshape(1, 5)\n",
    "print(\"\\n- np.append(a, np.ones(5), axis=0)\\n\", np.append(a,b, axis=0))"
   ]
  },
  {
   "cell_type": "code",
   "execution_count": null,
   "id": "6ec930d7",
   "metadata": {},
   "outputs": [],
   "source": [
    "a = (np.arange(1, 16)).reshape(3, 5)\n",
    "print(\"a:\\n\", a)\n",
    "print(\"\\n- np.append(a, np.zeros(3, 2), axis=1)\\n\", np.append(a, np.zeros(3, 2), axis=1))"
   ]
  },
  {
   "cell_type": "code",
   "execution_count": null,
   "id": "145c00e8",
   "metadata": {},
   "outputs": [],
   "source": [
    "a = (np.arange(1, 16)).reshape(3, 5)\n",
    "print(\"a:\\n\", a)\n",
    "\n",
    "print(\"\\n- np.pad(a, ((0, 0), (0, 2))):\\n\", np.pad(a, ((0, 0), (0, 2))))"
   ]
  },
  {
   "cell_type": "code",
   "execution_count": null,
   "id": "1820eab8",
   "metadata": {},
   "outputs": [],
   "source": [
    "a = (np.arange(1, 16)).reshape(3, 5)\n",
    "print(\"a:\\n\", a)\n",
    "\n",
    "print(\"\\n- np.pad(a, (1)):\\n\", np.pad(a, 1))"
   ]
  },
  {
   "cell_type": "code",
   "execution_count": null,
   "id": "d029a9cd",
   "metadata": {},
   "outputs": [],
   "source": [
    "a = (np.arange(1, 16)).reshape(3, 5)\n",
    "print(\"a:\\n\", a)\n",
    "\n",
    "print(\"\\n- np.pad(a, ((0, 1), (0, 0)), constant_values=1):\\n\", np.pad(a, ((0, 1), (0, 0)), constant_values=1))"
   ]
  },
  {
   "cell_type": "markdown",
   "id": "8a11c715",
   "metadata": {},
   "source": [
    "### Meshgrid : Le maillaige"
   ]
  },
  {
   "cell_type": "markdown",
   "id": "78ef5049",
   "metadata": {},
   "source": [
    "- The C way"
   ]
  },
  {
   "cell_type": "code",
   "execution_count": null,
   "id": "642eec75",
   "metadata": {},
   "outputs": [],
   "source": [
    "a = np.empty((2, 3))\n",
    "for i in range(2):\n",
    "    for j in range(3):\n",
    "        a[i, j] = j-i\n",
    "print(a)"
   ]
  },
  {
   "cell_type": "markdown",
   "id": "64f7aa69",
   "metadata": {},
   "source": [
    "- The Python way"
   ]
  },
  {
   "cell_type": "code",
   "execution_count": null,
   "id": "95843ba4",
   "metadata": {},
   "outputs": [],
   "source": [
    "c= [[(j-i) for j in range(3)] for i in range(2)]\n",
    "a= np.array(c)\n",
    "print(a)"
   ]
  },
  {
   "cell_type": "markdown",
   "id": "740b98be",
   "metadata": {},
   "source": [
    "- The Matlab way"
   ]
  },
  {
   "cell_type": "code",
   "execution_count": null,
   "id": "ef984027",
   "metadata": {},
   "outputs": [],
   "source": [
    "i, j = np.arange(2), np.arange(3)\n",
    "print(\"- i:\\n\", i)\n",
    "print(\"\\n- j:\\n\", j)\n",
    "\n",
    "I, J = np.meshgrid(i, j, indexing='ij')\n",
    "print(\"- I:\\n\", I)\n",
    "print(\"\\n- J:\\n\", J)"
   ]
  },
  {
   "cell_type": "markdown",
   "id": "3d71feab",
   "metadata": {},
   "source": [
    "- The Numpy way"
   ]
  },
  {
   "cell_type": "code",
   "execution_count": null,
   "id": "fcf072bd",
   "metadata": {},
   "outputs": [],
   "source": [
    "i, j = np.arange(2), np.arange(3)\n",
    "print(\"- i:\\n\", i)\n",
    "print(\"\\n- j:\\n\", j)\n",
    "\n",
    "I, J = np.meshgrid(i, j, sparse=True, indexing='ij')\n",
    "print(\"- I:\\n\", I)\n",
    "print(\"\\n- J:\\n\", J)\n",
    "\n",
    "print(\"\\n- J-I:\\n\", J-I)\n"
   ]
  },
  {
   "cell_type": "code",
   "execution_count": null,
   "id": "2c49182f",
   "metadata": {},
   "outputs": [],
   "source": [
    "a = (np.arange(1, 5)).reshape(2, 2)\n",
    "I, J = np.indices(a.shape)\n",
    "print(\"- I:\\n\", I)\n",
    "print(\"\\n- J:\\n\", J)\n",
    "\n",
    "print(\"\\na[I, J]:\\n\", a[I, J])\n",
    "print(\"\\na[J, I]:\\n\", a[J, I])"
   ]
  },
  {
   "cell_type": "markdown",
   "id": "df4a22c5",
   "metadata": {},
   "source": [
    "#### - Les Statiques des matrices"
   ]
  },
  {
   "cell_type": "markdown",
   "id": "6e2a7f23",
   "metadata": {},
   "source": [
    "Parmis ces statistiques figurent les methodes sum, min, max, argmin, argmax, mean, median, percentile, std, var..."
   ]
  },
  {
   "cell_type": "code",
   "execution_count": null,
   "id": "4f467fc6",
   "metadata": {},
   "outputs": [],
   "source": [
    "a = np.array([[4, 8, 5], [9, 3, 1]])\n",
    "print(\"- a.min()\\n\", a.min())\n",
    "print(\"\\n- a.min(axis=0)\\n\", a.min(axis=0))\n",
    "print(\"\\n- a.min(axis=1)\\n\", a.min(axis=1))"
   ]
  },
  {
   "cell_type": "code",
   "execution_count": null,
   "id": "15fd9cf2",
   "metadata": {},
   "outputs": [],
   "source": [
    "# argmin retourne l'indice du plus petit element du tableau\n",
    "print(\"- a.argmin()\\n\", a.argmin())\n",
    "print(\"- a.argmin(axis=0)\\n\", a.argmin(axis=1))\n",
    "print(\"- a.argmin(axis=1)\\n\", a.argmin(axis=1))"
   ]
  },
  {
   "cell_type": "code",
   "execution_count": null,
   "id": "f8a61c21",
   "metadata": {},
   "outputs": [],
   "source": [
    "# Les quantificateurs any et all utilisent aussi l'argument \"axis\"\n",
    "print(\"- np.any(a>5)\\n\", np.any(a>5))\n",
    "print(\"- np.any(a>5, axis=0)\\n\", np.any(a>5, axis=0))\n",
    "print(\"- np.any(a>5, axis=1)\\n\", np.any(a>5, axis=1))"
   ]
  },
  {
   "cell_type": "markdown",
   "id": "d3238b13",
   "metadata": {},
   "source": [
    "#### Trie dans une matrice"
   ]
  },
  {
   "cell_type": "code",
   "execution_count": null,
   "id": "2a74ade3",
   "metadata": {},
   "outputs": [],
   "source": [
    "a = np.array([[4, 8, 5], [9, 3, 1]])\n",
    "print(\"a:\\n\", a)\n",
    "\n",
    "print(\"\\n- a.sort()\\n\", a.sort())\n",
    "print(\"\\n- np.sort(a)\\n\",np.sort(a))\n",
    "print(\"\\n- np.sort(a, axis=-1)\\n\", np.sort(a, axis=-1))\n",
    "print(\"\\n- np.sort(a, axis=1)\\n\", np.sort(a, axis=1))\n",
    "print(\"\\n- np.sort(a, axis=0)\\n\", np.sort(a, axis=0))"
   ]
  },
  {
   "cell_type": "code",
   "execution_count": null,
   "id": "6448a155",
   "metadata": {},
   "outputs": [],
   "source": [
    "a = (np.array([[7, 4, 6, 5]])).T\n",
    "print(\"a:\\n\", a)\n",
    "a_trie = np.sort(a, axis = 0)\n",
    "print(\"\\n- np.sort(a, axis = 0)\\n\", a_trie)\n",
    "print(\"\\n- np.argsort(a, axis = 0)\\n\", np.argsort(a, axis = 0))"
   ]
  },
  {
   "cell_type": "code",
   "execution_count": null,
   "id": "28cbe500",
   "metadata": {},
   "outputs": [],
   "source": [
    "b = np.array([[3, 8], [0, 4], [1, 7], [2, 9]])\n",
    "print(\"b:\\n\", b)\n",
    "c = np.hstack((a_trie, b))\n",
    "print(\"\\n- c:\\n\", c)\n",
    "print(\"\\n- c[[1, 3, 2, 0]]\\n\", c[[1, 3, 2, 0]] )\n",
    "print(\"\\n- c[np.argsort(c[:,0])]\\n\", c[np.argsort(b[:,0])])"
   ]
  },
  {
   "cell_type": "code",
   "execution_count": null,
   "id": "faee4b3a",
   "metadata": {},
   "outputs": [],
   "source": [
    "a = np.array([[3, 4], [2, 7], [1, 5], [2, 6]])\n",
    "x = a[a[:,0].argsort()]\n",
    "print(\"- x:\\n\", x)\n",
    "y = a[a[:,1].argsort(kind='stable')]\n",
    "print(\"\\n- y:\\n\", y)\n",
    "z = a[a[:,0].argsort(kind='stable')]\n",
    "print(\"\\n- z:\\n\", z)\n",
    "x1 = a[np.argsort(a[:,1])]\n",
    "print(\"\\n- x1:\\n\", x1)\n",
    "x2 = a[np.argsort(x1[:,0], kind='stable')]\n",
    "print(\"\\n- x2:\\n\", x2)"
   ]
  },
  {
   "cell_type": "code",
   "execution_count": null,
   "id": "1e0b915f",
   "metadata": {},
   "outputs": [],
   "source": [
    "a = np.array([[3, 4], [2, 7], [1, 5], [2, 6]])\n",
    "print(\"a[np.lexsort(np.rot90(a))]:\\n\", a[np.lexsort(np.rot90(a))])"
   ]
  },
  {
   "cell_type": "code",
   "execution_count": null,
   "id": "a211692f",
   "metadata": {},
   "outputs": [],
   "source": [
    "a = np.array([[3, 4], [2, 7], [1, 5], [2, 6]])\n",
    "print(\"a[np.lexsort(np.flipud(a.T[[2,5]]))]:\\n\", a[np.lexsort(np.flipud(a.T[[0,1]]))])"
   ]
  },
  {
   "cell_type": "code",
   "execution_count": null,
   "id": "21c03b38",
   "metadata": {},
   "outputs": [],
   "source": [
    "a = np.array([[3, 4], [2, 7], [1, 5], [2, 6]])\n",
    "from numpy.lib.recfunctions import unstructured_to_structured as u2s\n",
    "from numpy.lib.recfunctions import structured_to_unstructured as s2u\n",
    "b = u2s(a)\n",
    "print(\"- u2s(a)\\n\", b)\n",
    "b = np.sort(b, axis=0)\n",
    "print(\"\\n- b.sort(order=('f1', 'f0')):\\n\", b)\n",
    "print(\"- s2u(a)\\n\", s2u(b))"
   ]
  },
  {
   "cell_type": "markdown",
   "id": "cedbde63",
   "metadata": {},
   "source": [
    "# 3D"
   ]
  },
  {
   "cell_type": "code",
   "execution_count": null,
   "id": "e2c3c450",
   "metadata": {},
   "outputs": [],
   "source": [
    "np.arange(1, 9).reshape(2, 2, 2)"
   ]
  },
  {
   "cell_type": "code",
   "execution_count": 48,
   "id": "37a65b23",
   "metadata": {},
   "outputs": [
    {
     "name": "stdout",
     "output_type": "stream",
     "text": [
      "ndim: 3\n",
      "\n",
      "size: 24\n"
     ]
    }
   ],
   "source": [
    "b = np.array([[0, 0, 0, 0], [0, 0, 0, 0], [1, 1, 1, 1], [1, 1, 1, 1], [2, 2, 2, 2], [2, 2, 2, 2]]).reshape(3, 2, 4)\n",
    "print(\"ndim:\", b.ndim)\n",
    "print(\"\\nsize:\", b.size)"
   ]
  },
  {
   "cell_type": "code",
   "execution_count": 57,
   "id": "76f24936",
   "metadata": {},
   "outputs": [
    {
     "data": {
      "text/plain": [
       "array([[[0, 0, 1, 1, 2, 2],\n",
       "        [0, 0, 1, 1, 2, 2],\n",
       "        [0, 0, 1, 1, 2, 2],\n",
       "        [0, 0, 1, 1, 2, 2]]])"
      ]
     },
     "execution_count": 57,
     "metadata": {},
     "output_type": "execute_result"
    }
   ],
   "source": [
    "b = np.array([[0, 0, 0, 0], [0, 0, 0, 0], [1, 1, 1, 1], [1, 1, 1, 1], [2, 2, 2, 2], [2, 2, 2, 2]])\n",
    "b = np.dstack(b)\n",
    "b"
   ]
  },
  {
   "cell_type": "code",
   "execution_count": 61,
   "id": "f08116db",
   "metadata": {},
   "outputs": [
    {
     "name": "stdout",
     "output_type": "stream",
     "text": [
      "- zeros:\n",
      " [[[0. 0. 0. 0. 0.]\n",
      "  [0. 0. 0. 0. 0.]\n",
      "  [0. 0. 0. 0. 0.]\n",
      "  [0. 0. 0. 0. 0.]]\n",
      "\n",
      " [[0. 0. 0. 0. 0.]\n",
      "  [0. 0. 0. 0. 0.]\n",
      "  [0. 0. 0. 0. 0.]\n",
      "  [0. 0. 0. 0. 0.]]\n",
      "\n",
      " [[0. 0. 0. 0. 0.]\n",
      "  [0. 0. 0. 0. 0.]\n",
      "  [0. 0. 0. 0. 0.]\n",
      "  [0. 0. 0. 0. 0.]]]\n",
      "\\- nones:\n",
      " [[[1. 1. 1. 1. 1.]\n",
      "  [1. 1. 1. 1. 1.]\n",
      "  [1. 1. 1. 1. 1.]\n",
      "  [1. 1. 1. 1. 1.]]\n",
      "\n",
      " [[1. 1. 1. 1. 1.]\n",
      "  [1. 1. 1. 1. 1.]\n",
      "  [1. 1. 1. 1. 1.]\n",
      "  [1. 1. 1. 1. 1.]]\n",
      "\n",
      " [[1. 1. 1. 1. 1.]\n",
      "  [1. 1. 1. 1. 1.]\n",
      "  [1. 1. 1. 1. 1.]\n",
      "  [1. 1. 1. 1. 1.]]]\n",
      "\n",
      "- Random:\n",
      " [[[0.8756903  0.24685114 0.63898891 0.11067709 0.88729494]\n",
      "  [0.54038592 0.30271986 0.24159409 0.53885214 0.17248042]\n",
      "  [0.74532254 0.60628313 0.96927274 0.60938553 0.80371141]\n",
      "  [0.45995386 0.12953982 0.36641517 0.50534006 0.70341153]]\n",
      "\n",
      " [[0.42823318 0.5216468  0.53765387 0.54112449 0.66925734]\n",
      "  [0.6486889  0.44880571 0.30350491 0.32870119 0.57368528]\n",
      "  [0.49967262 0.93062368 0.20531572 0.4748163  0.1694381 ]\n",
      "  [0.07927166 0.41845533 0.32714313 0.20032547 0.91611262]]\n",
      "\n",
      " [[0.112129   0.75791039 0.89877158 0.86006239 0.23524038]\n",
      "  [0.61624253 0.4021312  0.56102997 0.05642082 0.88746598]\n",
      "  [0.23851053 0.89386765 0.8711977  0.39861763 0.53524346]\n",
      "  [0.13175634 0.62400215 0.40188461 0.51805528 0.15929225]]]\n"
     ]
    }
   ],
   "source": [
    "print(\"- zeros:\\n\", np.zeros((3, 4, 5)))\n",
    "print(\"\\- nones:\\n\", np.ones((3, 4, 5)))\n",
    "print(\"\\n- Random:\\n\", np.random.rand(3, 4, 5))"
   ]
  },
  {
   "cell_type": "code",
   "execution_count": 65,
   "id": "25693e89",
   "metadata": {},
   "outputs": [
    {
     "name": "stdout",
     "output_type": "stream",
     "text": [
      "- np.hstack [[ 4 11  5  4  1  5]\n",
      " [11 10  5  9  4  6]\n",
      " [ 5  2 15  4  2  5]]\n",
      "\n",
      "- np.vstack [[ 4 11  5  4]\n",
      " [11 10  5  9]\n",
      " [ 5  2 15  4]\n",
      " [ 3  1  4  8]\n",
      " [ 2  4  8  2]]\n",
      "\n",
      "- np.dstack [[[ 4  3]\n",
      "  [11  4]\n",
      "  [ 5  1]\n",
      "  [ 4  5]]\n",
      "\n",
      " [[11  8]\n",
      "  [10  8]\n",
      "  [ 5  7]\n",
      "  [ 9  2]]\n",
      "\n",
      " [[ 5  7]\n",
      "  [ 2  8]\n",
      "  [15  2]\n",
      "  [ 4  3]]]\n"
     ]
    }
   ],
   "source": [
    "a = np.random.randint(1, 16, (3, 4))\n",
    "b = np.random.randint(1, 7, (3, 2))\n",
    "c = np.random.randint(1, 9, (2, 4))\n",
    "d = np.random.randint(1, 9, (3, 4))\n",
    "print(\"- np.hstack\", np.hstack((a, b)))\n",
    "print(\"\\n- np.vstack\",np.vstack((a, c)))\n",
    "print(\"\\n- np.dstack\",np.dstack((a, d)))"
   ]
  },
  {
   "cell_type": "code",
   "execution_count": 67,
   "id": "2c7b237f",
   "metadata": {},
   "outputs": [
    {
     "name": "stdout",
     "output_type": "stream",
     "text": [
      "- concatenate suivant x:\n",
      " [[[11 13 13 10  1  1]\n",
      "  [12 14  4 13  4  3]\n",
      "  [15  6  3  1  5  6]]\n",
      "\n",
      " [[ 1  7  3  8  4  5]\n",
      "  [14  7  6  5  1  4]\n",
      "  [ 2  8 11  5  4  4]]]\n",
      "\n",
      "- concatenate suivant y:\n",
      " [[[11 13 13 10]\n",
      "  [12 14  4 13]\n",
      "  [15  6  3  1]\n",
      "  [ 8  7  6  8]\n",
      "  [ 3  8  8  1]]\n",
      "\n",
      " [[ 1  7  3  8]\n",
      "  [14  7  6  5]\n",
      "  [ 2  8 11  5]\n",
      "  [ 1  6  2  3]\n",
      "  [ 5  6  6  7]]]\n",
      "\n",
      "- concatenate suivant z:\n",
      " [[[11 13 13 10]\n",
      "  [12 14  4 13]\n",
      "  [15  6  3  1]]\n",
      "\n",
      " [[ 1  7  3  8]\n",
      "  [14  7  6  5]\n",
      "  [ 2  8 11  5]]\n",
      "\n",
      " [[ 7  6  1  8]\n",
      "  [ 1  8  6  2]\n",
      "  [ 4  8  3  7]]\n",
      "\n",
      " [[ 6  2  6  2]\n",
      "  [ 7  3  7  3]\n",
      "  [ 5  7  8  4]]]\n"
     ]
    }
   ],
   "source": [
    "#concatenation\n",
    "a = np.random.randint(1, 16, (2, 3,  4))\n",
    "b = np.random.randint(1, 7, (2, 3, 2))\n",
    "c = np.random.randint(1, 9, (2, 2, 4))\n",
    "d = np.random.randint(1, 9, (2, 3, 4))\n",
    "print(\"- concatenate suivant x:\\n\", np.concatenate((a, b), axis=2))\n",
    "print(\"\\n- concatenate suivant y:\\n\",np.concatenate((a, c), axis=1))\n",
    "print(\"\\n- concatenate suivant z:\\n\",np.concatenate((a, d), axis=0))"
   ]
  },
  {
   "cell_type": "code",
   "execution_count": 74,
   "id": "038951bc",
   "metadata": {},
   "outputs": [
    {
     "name": "stdout",
     "output_type": "stream",
     "text": [
      "- b initial:\n",
      " [[[0 0 0 0]\n",
      "  [0 0 0 0]]\n",
      "\n",
      " [[1 1 1 1]\n",
      "  [1 1 1 1]]\n",
      "\n",
      " [[2 2 2 2]\n",
      "  [2 2 2 2]]]\n",
      "\n",
      "- c:\n",
      " [[[0 1 2]\n",
      "  [0 1 2]\n",
      "  [0 1 2]\n",
      "  [0 1 2]]\n",
      "\n",
      " [[0 1 2]\n",
      "  [0 1 2]\n",
      "  [0 1 2]\n",
      "  [0 1 2]]]\n",
      "\n",
      "- b:\n",
      " [[[0 0]\n",
      "  [1 1]\n",
      "  [2 2]]\n",
      "\n",
      " [[0 0]\n",
      "  [1 1]\n",
      "  [2 2]]\n",
      "\n",
      " [[0 0]\n",
      "  [1 1]\n",
      "  [2 2]]\n",
      "\n",
      " [[0 0]\n",
      "  [1 1]\n",
      "  [2 2]]]\n"
     ]
    }
   ],
   "source": [
    "b = np.array([[0, 0, 0, 0], [0, 0, 0, 0], [1, 1, 1, 1], [1, 1, 1, 1], [2, 2, 2, 2], [2, 2, 2, 2]])\n",
    "b = b.reshape(3, 2, 4)\n",
    "print(\"- b initial:\\n\", b)\n",
    "c = np.moveaxis(b, 0, 2)\n",
    "print(\"\\n- c:\\n\", c)\n",
    "b = np.moveaxis(c, 0, 2)\n",
    "print(\"\\n- b:\\n\", b)"
   ]
  },
  {
   "cell_type": "code",
   "execution_count": 79,
   "id": "4942dd3b",
   "metadata": {},
   "outputs": [
    {
     "name": "stdout",
     "output_type": "stream",
     "text": [
      "- np.swapaxes(a, 1, 2):\n",
      " [[[ 5  5  3 12]\n",
      "  [ 1  7  4  8]\n",
      "  [ 5 11 11 11]]\n",
      "\n",
      " [[ 7 11  2  7]\n",
      "  [11  7 10  9]\n",
      "  [10  3 10  9]]]\n",
      "\n",
      "- np.swapaxes(a, 0, 1):\n",
      " [[[ 5  1  5]\n",
      "  [ 7 11 10]]\n",
      "\n",
      " [[ 5  7 11]\n",
      "  [11  7  3]]\n",
      "\n",
      " [[ 3  4 11]\n",
      "  [ 2 10 10]]\n",
      "\n",
      " [[12  8 11]\n",
      "  [ 7  9  9]]]\n",
      "\n",
      "- np.swapaxes(a, 0, 2):\n",
      " [[[ 5  5  3 12]\n",
      "  [ 1  7  4  8]\n",
      "  [ 5 11 11 11]]\n",
      "\n",
      " [[ 7 11  2  7]\n",
      "  [11  7 10  9]\n",
      "  [10  3 10  9]]]\n",
      "\n",
      "-x.shape : (2, 3, 4)\n",
      "\n",
      "-y.shape : (4, 2, 3)\n",
      "\n",
      "-z.shape : (2, 3, 4)\n"
     ]
    }
   ],
   "source": [
    "a = np.random.randint(1, 13, (2, 4,  3))\n",
    "x = np.swapaxes(a, 1, 2)\n",
    "y = np.swapaxes(a, 0, 1)\n",
    "z = np.swapaxes(a, 1, 2)\n",
    "print(\"- np.swapaxes(a, 1, 2):\\n\", x)\n",
    "print(\"\\n- np.swapaxes(a, 0, 1):\\n\", y)\n",
    "print(\"\\n- np.swapaxes(a, 0, 2):\\n\", z)\n",
    "print(\"\\n-x.shape :\", x.shape)\n",
    "print(\"\\n-y.shape :\", y.shape)\n",
    "print(\"\\n-z.shape :\", z.shape)"
   ]
  },
  {
   "cell_type": "code",
   "execution_count": 81,
   "id": "645642fb",
   "metadata": {},
   "outputs": [
    {
     "data": {
      "text/plain": [
       "array([[4400., 4730.],\n",
       "       [4532., 4874.],\n",
       "       [4664., 5018.],\n",
       "       [4796., 5162.],\n",
       "       [4928., 5306.]])"
      ]
     },
     "execution_count": 81,
     "metadata": {},
     "output_type": "execute_result"
    }
   ],
   "source": [
    "a = np.arange(60.).reshape(3,4,5)\n",
    "b = np.arange(24.).reshape(4,3,2)\n",
    "np.einsum('ijk,jil->kl', a, b)"
   ]
  },
  {
   "cell_type": "code",
   "execution_count": null,
   "id": "5db21a8b",
   "metadata": {},
   "outputs": [],
   "source": []
  }
 ],
 "metadata": {
  "kernelspec": {
   "display_name": "Python 3 (ipykernel)",
   "language": "python",
   "name": "python3"
  },
  "language_info": {
   "codemirror_mode": {
    "name": "ipython",
    "version": 3
   },
   "file_extension": ".py",
   "mimetype": "text/x-python",
   "name": "python",
   "nbconvert_exporter": "python",
   "pygments_lexer": "ipython3",
   "version": "3.9.12"
  }
 },
 "nbformat": 4,
 "nbformat_minor": 5
}
