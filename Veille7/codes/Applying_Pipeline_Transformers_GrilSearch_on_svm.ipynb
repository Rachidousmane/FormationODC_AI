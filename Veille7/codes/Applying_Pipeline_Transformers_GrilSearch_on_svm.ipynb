{
 "cells": [
  {
   "cell_type": "code",
   "execution_count": 1,
   "metadata": {},
   "outputs": [],
   "source": [
    "import matplotlib.pyplot as plt\n",
    "import numpy as np\n",
    "import pandas as pd\n",
    "import seaborn as sns\n",
    "from sklearn import svm, datasets\n",
    "from sklearn.svm import SVC\n",
    "from sklearn.inspection import DecisionBoundaryDisplay\n",
    "from sklearn.model_selection import GridSearchCV\n",
    "from sklearn.model_selection import train_test_split\n",
    "from sklearn.metrics import accuracy_score, mean_squared_error, precision_score, recall_score, confusion_matrix, f1_score\n",
    "from sklearn.metrics import classification_report, ConfusionMatrixDisplay\n",
    "from scipy import stats\n",
    "from sklearn.preprocessing import StandardScaler\n",
    "from sklearn.multioutput import MultiOutputClassifier, MultiOutputRegressor\n",
    "from sklearn.multiclass import OutputCodeClassifier\n"
   ]
  },
  {
   "cell_type": "code",
   "execution_count": 2,
   "metadata": {},
   "outputs": [],
   "source": [
    "df = pd.read_csv(r\"C:\\Users\\Oussou\\Documents\\Rachid Ousmane\\cours auto\\ODC_AI\\svm\\Iris.csv\")"
   ]
  },
  {
   "cell_type": "code",
   "execution_count": 3,
   "metadata": {},
   "outputs": [
    {
     "data": {
      "text/html": [
       "<div>\n",
       "<style scoped>\n",
       "    .dataframe tbody tr th:only-of-type {\n",
       "        vertical-align: middle;\n",
       "    }\n",
       "\n",
       "    .dataframe tbody tr th {\n",
       "        vertical-align: top;\n",
       "    }\n",
       "\n",
       "    .dataframe thead th {\n",
       "        text-align: right;\n",
       "    }\n",
       "</style>\n",
       "<table border=\"1\" class=\"dataframe\">\n",
       "  <thead>\n",
       "    <tr style=\"text-align: right;\">\n",
       "      <th></th>\n",
       "      <th>Id</th>\n",
       "      <th>SepalLengthCm</th>\n",
       "      <th>SepalWidthCm</th>\n",
       "      <th>PetalLengthCm</th>\n",
       "      <th>PetalWidthCm</th>\n",
       "      <th>Species</th>\n",
       "    </tr>\n",
       "  </thead>\n",
       "  <tbody>\n",
       "    <tr>\n",
       "      <th>0</th>\n",
       "      <td>1</td>\n",
       "      <td>5.1</td>\n",
       "      <td>3.5</td>\n",
       "      <td>1.4</td>\n",
       "      <td>0.2</td>\n",
       "      <td>Iris-setosa</td>\n",
       "    </tr>\n",
       "    <tr>\n",
       "      <th>1</th>\n",
       "      <td>2</td>\n",
       "      <td>4.9</td>\n",
       "      <td>3.0</td>\n",
       "      <td>1.4</td>\n",
       "      <td>0.2</td>\n",
       "      <td>Iris-setosa</td>\n",
       "    </tr>\n",
       "    <tr>\n",
       "      <th>2</th>\n",
       "      <td>3</td>\n",
       "      <td>4.7</td>\n",
       "      <td>3.2</td>\n",
       "      <td>1.3</td>\n",
       "      <td>0.2</td>\n",
       "      <td>Iris-setosa</td>\n",
       "    </tr>\n",
       "    <tr>\n",
       "      <th>3</th>\n",
       "      <td>4</td>\n",
       "      <td>4.6</td>\n",
       "      <td>3.1</td>\n",
       "      <td>1.5</td>\n",
       "      <td>0.2</td>\n",
       "      <td>Iris-setosa</td>\n",
       "    </tr>\n",
       "    <tr>\n",
       "      <th>4</th>\n",
       "      <td>5</td>\n",
       "      <td>5.0</td>\n",
       "      <td>3.6</td>\n",
       "      <td>1.4</td>\n",
       "      <td>0.2</td>\n",
       "      <td>Iris-setosa</td>\n",
       "    </tr>\n",
       "    <tr>\n",
       "      <th>...</th>\n",
       "      <td>...</td>\n",
       "      <td>...</td>\n",
       "      <td>...</td>\n",
       "      <td>...</td>\n",
       "      <td>...</td>\n",
       "      <td>...</td>\n",
       "    </tr>\n",
       "    <tr>\n",
       "      <th>145</th>\n",
       "      <td>146</td>\n",
       "      <td>6.7</td>\n",
       "      <td>3.0</td>\n",
       "      <td>5.2</td>\n",
       "      <td>2.3</td>\n",
       "      <td>Iris-virginica</td>\n",
       "    </tr>\n",
       "    <tr>\n",
       "      <th>146</th>\n",
       "      <td>147</td>\n",
       "      <td>6.3</td>\n",
       "      <td>2.5</td>\n",
       "      <td>5.0</td>\n",
       "      <td>1.9</td>\n",
       "      <td>Iris-virginica</td>\n",
       "    </tr>\n",
       "    <tr>\n",
       "      <th>147</th>\n",
       "      <td>148</td>\n",
       "      <td>6.5</td>\n",
       "      <td>3.0</td>\n",
       "      <td>5.2</td>\n",
       "      <td>2.0</td>\n",
       "      <td>Iris-virginica</td>\n",
       "    </tr>\n",
       "    <tr>\n",
       "      <th>148</th>\n",
       "      <td>149</td>\n",
       "      <td>6.2</td>\n",
       "      <td>3.4</td>\n",
       "      <td>5.4</td>\n",
       "      <td>2.3</td>\n",
       "      <td>Iris-virginica</td>\n",
       "    </tr>\n",
       "    <tr>\n",
       "      <th>149</th>\n",
       "      <td>150</td>\n",
       "      <td>5.9</td>\n",
       "      <td>3.0</td>\n",
       "      <td>5.1</td>\n",
       "      <td>1.8</td>\n",
       "      <td>Iris-virginica</td>\n",
       "    </tr>\n",
       "  </tbody>\n",
       "</table>\n",
       "<p>150 rows × 6 columns</p>\n",
       "</div>"
      ],
      "text/plain": [
       "      Id  SepalLengthCm  SepalWidthCm  PetalLengthCm  PetalWidthCm  \\\n",
       "0      1            5.1           3.5            1.4           0.2   \n",
       "1      2            4.9           3.0            1.4           0.2   \n",
       "2      3            4.7           3.2            1.3           0.2   \n",
       "3      4            4.6           3.1            1.5           0.2   \n",
       "4      5            5.0           3.6            1.4           0.2   \n",
       "..   ...            ...           ...            ...           ...   \n",
       "145  146            6.7           3.0            5.2           2.3   \n",
       "146  147            6.3           2.5            5.0           1.9   \n",
       "147  148            6.5           3.0            5.2           2.0   \n",
       "148  149            6.2           3.4            5.4           2.3   \n",
       "149  150            5.9           3.0            5.1           1.8   \n",
       "\n",
       "            Species  \n",
       "0       Iris-setosa  \n",
       "1       Iris-setosa  \n",
       "2       Iris-setosa  \n",
       "3       Iris-setosa  \n",
       "4       Iris-setosa  \n",
       "..              ...  \n",
       "145  Iris-virginica  \n",
       "146  Iris-virginica  \n",
       "147  Iris-virginica  \n",
       "148  Iris-virginica  \n",
       "149  Iris-virginica  \n",
       "\n",
       "[150 rows x 6 columns]"
      ]
     },
     "execution_count": 3,
     "metadata": {},
     "output_type": "execute_result"
    }
   ],
   "source": [
    "df"
   ]
  },
  {
   "cell_type": "markdown",
   "metadata": {},
   "source": [
    "Importation de données"
   ]
  },
  {
   "cell_type": "code",
   "execution_count": 4,
   "metadata": {},
   "outputs": [],
   "source": [
    "# iris = datasets.load_iris()\n",
    "\n",
    "# # Creation du dataframe\n",
    "# df = pd.DataFrame(iris.data, columns = iris.feature_names)\n",
    "# df['target'] = iris.target\n",
    "# df"
   ]
  },
  {
   "cell_type": "markdown",
   "metadata": {},
   "source": [
    "Selection de features"
   ]
  },
  {
   "cell_type": "code",
   "execution_count": 5,
   "metadata": {},
   "outputs": [
    {
     "name": "stderr",
     "output_type": "stream",
     "text": [
      "C:\\Users\\Oussou\\AppData\\Local\\Temp\\ipykernel_11872\\3757163457.py:2: FutureWarning: The default value of numeric_only in DataFrame.corr is deprecated. In a future version, it will default to False. Select only valid columns or specify the value of numeric_only to silence this warning.\n",
      "  sns.heatmap(df.corr(), annot= True)\n"
     ]
    },
    {
     "data": {
      "text/plain": [
       "Text(0.5, 1.0, 'Correlation sur les données')"
      ]
     },
     "execution_count": 5,
     "metadata": {},
     "output_type": "execute_result"
    },
    {
     "data": {
      "image/png": "[encoded data removed]",
      "text/plain": [
       "<Figure size 640x480 with 2 Axes>"
      ]
     },
     "metadata": {},
     "output_type": "display_data"
    }
   ],
   "source": [
    "plt.figure(1)\n",
    "sns.heatmap(df.corr(), annot= True)\n",
    "plt.title('Correlation sur les données')"
   ]
  },
  {
   "cell_type": "code",
   "execution_count": 6,
   "metadata": {},
   "outputs": [],
   "source": [
    "def myDummy(df, column):\n",
    "    dummy_df = pd.get_dummies(df[column])\n",
    "    \n",
    "    dummy_df[column] = \"\"\n",
    "    n_cat = len(df[column].unique())\n",
    "    for i in range(len(dummy_df)):\n",
    "        for j in range(n_cat):\n",
    "            dummy_df.iloc[i, n_cat] = str(dummy_df.iloc[i, n_cat]) + str(dummy_df.iloc[i, j])\n",
    "            # dummy_df.iloc[i, 3] = str(dummy_df.iloc[i, 0]) + str(dummy_df.iloc[i, 1]) + str(dummy_df.iloc[i, 2])\n",
    "            # dummy_df[\"newTarget\"]\n",
    "    df = df.drop(column, axis=1)\n",
    "    df = pd.concat([df, dummy_df[column]], axis=1)\n",
    "    print(n_cat, \"Catégories\")\n",
    "    return df"
   ]
  },
  {
   "cell_type": "code",
   "execution_count": 7,
   "metadata": {},
   "outputs": [],
   "source": [
    "# df = myDummy(df, \"Species\")\n",
    "# df"
   ]
  },
  {
   "cell_type": "code",
   "execution_count": 8,
   "metadata": {},
   "outputs": [
    {
     "data": {
      "text/html": [
       "<div>\n",
       "<style scoped>\n",
       "    .dataframe tbody tr th:only-of-type {\n",
       "        vertical-align: middle;\n",
       "    }\n",
       "\n",
       "    .dataframe tbody tr th {\n",
       "        vertical-align: top;\n",
       "    }\n",
       "\n",
       "    .dataframe thead th {\n",
       "        text-align: right;\n",
       "    }\n",
       "</style>\n",
       "<table border=\"1\" class=\"dataframe\">\n",
       "  <thead>\n",
       "    <tr style=\"text-align: right;\">\n",
       "      <th></th>\n",
       "      <th>Id</th>\n",
       "      <th>SepalLengthCm</th>\n",
       "      <th>SepalWidthCm</th>\n",
       "      <th>PetalLengthCm</th>\n",
       "      <th>PetalWidthCm</th>\n",
       "      <th>Iris-setosa</th>\n",
       "      <th>Iris-versicolor</th>\n",
       "      <th>Iris-virginica</th>\n",
       "    </tr>\n",
       "  </thead>\n",
       "  <tbody>\n",
       "    <tr>\n",
       "      <th>0</th>\n",
       "      <td>1</td>\n",
       "      <td>5.1</td>\n",
       "      <td>3.5</td>\n",
       "      <td>1.4</td>\n",
       "      <td>0.2</td>\n",
       "      <td>1</td>\n",
       "      <td>0</td>\n",
       "      <td>0</td>\n",
       "    </tr>\n",
       "    <tr>\n",
       "      <th>1</th>\n",
       "      <td>2</td>\n",
       "      <td>4.9</td>\n",
       "      <td>3.0</td>\n",
       "      <td>1.4</td>\n",
       "      <td>0.2</td>\n",
       "      <td>1</td>\n",
       "      <td>0</td>\n",
       "      <td>0</td>\n",
       "    </tr>\n",
       "    <tr>\n",
       "      <th>2</th>\n",
       "      <td>3</td>\n",
       "      <td>4.7</td>\n",
       "      <td>3.2</td>\n",
       "      <td>1.3</td>\n",
       "      <td>0.2</td>\n",
       "      <td>1</td>\n",
       "      <td>0</td>\n",
       "      <td>0</td>\n",
       "    </tr>\n",
       "    <tr>\n",
       "      <th>3</th>\n",
       "      <td>4</td>\n",
       "      <td>4.6</td>\n",
       "      <td>3.1</td>\n",
       "      <td>1.5</td>\n",
       "      <td>0.2</td>\n",
       "      <td>1</td>\n",
       "      <td>0</td>\n",
       "      <td>0</td>\n",
       "    </tr>\n",
       "    <tr>\n",
       "      <th>4</th>\n",
       "      <td>5</td>\n",
       "      <td>5.0</td>\n",
       "      <td>3.6</td>\n",
       "      <td>1.4</td>\n",
       "      <td>0.2</td>\n",
       "      <td>1</td>\n",
       "      <td>0</td>\n",
       "      <td>0</td>\n",
       "    </tr>\n",
       "    <tr>\n",
       "      <th>...</th>\n",
       "      <td>...</td>\n",
       "      <td>...</td>\n",
       "      <td>...</td>\n",
       "      <td>...</td>\n",
       "      <td>...</td>\n",
       "      <td>...</td>\n",
       "      <td>...</td>\n",
       "      <td>...</td>\n",
       "    </tr>\n",
       "    <tr>\n",
       "      <th>145</th>\n",
       "      <td>146</td>\n",
       "      <td>6.7</td>\n",
       "      <td>3.0</td>\n",
       "      <td>5.2</td>\n",
       "      <td>2.3</td>\n",
       "      <td>0</td>\n",
       "      <td>0</td>\n",
       "      <td>1</td>\n",
       "    </tr>\n",
       "    <tr>\n",
       "      <th>146</th>\n",
       "      <td>147</td>\n",
       "      <td>6.3</td>\n",
       "      <td>2.5</td>\n",
       "      <td>5.0</td>\n",
       "      <td>1.9</td>\n",
       "      <td>0</td>\n",
       "      <td>0</td>\n",
       "      <td>1</td>\n",
       "    </tr>\n",
       "    <tr>\n",
       "      <th>147</th>\n",
       "      <td>148</td>\n",
       "      <td>6.5</td>\n",
       "      <td>3.0</td>\n",
       "      <td>5.2</td>\n",
       "      <td>2.0</td>\n",
       "      <td>0</td>\n",
       "      <td>0</td>\n",
       "      <td>1</td>\n",
       "    </tr>\n",
       "    <tr>\n",
       "      <th>148</th>\n",
       "      <td>149</td>\n",
       "      <td>6.2</td>\n",
       "      <td>3.4</td>\n",
       "      <td>5.4</td>\n",
       "      <td>2.3</td>\n",
       "      <td>0</td>\n",
       "      <td>0</td>\n",
       "      <td>1</td>\n",
       "    </tr>\n",
       "    <tr>\n",
       "      <th>149</th>\n",
       "      <td>150</td>\n",
       "      <td>5.9</td>\n",
       "      <td>3.0</td>\n",
       "      <td>5.1</td>\n",
       "      <td>1.8</td>\n",
       "      <td>0</td>\n",
       "      <td>0</td>\n",
       "      <td>1</td>\n",
       "    </tr>\n",
       "  </tbody>\n",
       "</table>\n",
       "<p>150 rows × 8 columns</p>\n",
       "</div>"
      ],
      "text/plain": [
       "      Id  SepalLengthCm  SepalWidthCm  PetalLengthCm  PetalWidthCm  \\\n",
       "0      1            5.1           3.5            1.4           0.2   \n",
       "1      2            4.9           3.0            1.4           0.2   \n",
       "2      3            4.7           3.2            1.3           0.2   \n",
       "3      4            4.6           3.1            1.5           0.2   \n",
       "4      5            5.0           3.6            1.4           0.2   \n",
       "..   ...            ...           ...            ...           ...   \n",
       "145  146            6.7           3.0            5.2           2.3   \n",
       "146  147            6.3           2.5            5.0           1.9   \n",
       "147  148            6.5           3.0            5.2           2.0   \n",
       "148  149            6.2           3.4            5.4           2.3   \n",
       "149  150            5.9           3.0            5.1           1.8   \n",
       "\n",
       "     Iris-setosa  Iris-versicolor  Iris-virginica  \n",
       "0              1                0               0  \n",
       "1              1                0               0  \n",
       "2              1                0               0  \n",
       "3              1                0               0  \n",
       "4              1                0               0  \n",
       "..           ...              ...             ...  \n",
       "145            0                0               1  \n",
       "146            0                0               1  \n",
       "147            0                0               1  \n",
       "148            0                0               1  \n",
       "149            0                0               1  \n",
       "\n",
       "[150 rows x 8 columns]"
      ]
     },
     "execution_count": 8,
     "metadata": {},
     "output_type": "execute_result"
    }
   ],
   "source": [
    "dummy_df = pd.get_dummies(df[\"Species\"])\n",
    "df = df.drop(\"Species\", axis=1)\n",
    "df = pd.concat([df, dummy_df], axis=1)\n",
    "df"
   ]
  },
  {
   "cell_type": "code",
   "execution_count": 9,
   "metadata": {},
   "outputs": [
    {
     "data": {
      "text/html": [
       "<div>\n",
       "<style scoped>\n",
       "    .dataframe tbody tr th:only-of-type {\n",
       "        vertical-align: middle;\n",
       "    }\n",
       "\n",
       "    .dataframe tbody tr th {\n",
       "        vertical-align: top;\n",
       "    }\n",
       "\n",
       "    .dataframe thead th {\n",
       "        text-align: right;\n",
       "    }\n",
       "</style>\n",
       "<table border=\"1\" class=\"dataframe\">\n",
       "  <thead>\n",
       "    <tr style=\"text-align: right;\">\n",
       "      <th></th>\n",
       "      <th>Iris-setosa</th>\n",
       "      <th>Iris-versicolor</th>\n",
       "      <th>Iris-virginica</th>\n",
       "    </tr>\n",
       "  </thead>\n",
       "  <tbody>\n",
       "    <tr>\n",
       "      <th>0</th>\n",
       "      <td>1</td>\n",
       "      <td>0</td>\n",
       "      <td>0</td>\n",
       "    </tr>\n",
       "    <tr>\n",
       "      <th>1</th>\n",
       "      <td>1</td>\n",
       "      <td>0</td>\n",
       "      <td>0</td>\n",
       "    </tr>\n",
       "    <tr>\n",
       "      <th>2</th>\n",
       "      <td>1</td>\n",
       "      <td>0</td>\n",
       "      <td>0</td>\n",
       "    </tr>\n",
       "    <tr>\n",
       "      <th>3</th>\n",
       "      <td>1</td>\n",
       "      <td>0</td>\n",
       "      <td>0</td>\n",
       "    </tr>\n",
       "    <tr>\n",
       "      <th>4</th>\n",
       "      <td>1</td>\n",
       "      <td>0</td>\n",
       "      <td>0</td>\n",
       "    </tr>\n",
       "    <tr>\n",
       "      <th>...</th>\n",
       "      <td>...</td>\n",
       "      <td>...</td>\n",
       "      <td>...</td>\n",
       "    </tr>\n",
       "    <tr>\n",
       "      <th>145</th>\n",
       "      <td>0</td>\n",
       "      <td>0</td>\n",
       "      <td>1</td>\n",
       "    </tr>\n",
       "    <tr>\n",
       "      <th>146</th>\n",
       "      <td>0</td>\n",
       "      <td>0</td>\n",
       "      <td>1</td>\n",
       "    </tr>\n",
       "    <tr>\n",
       "      <th>147</th>\n",
       "      <td>0</td>\n",
       "      <td>0</td>\n",
       "      <td>1</td>\n",
       "    </tr>\n",
       "    <tr>\n",
       "      <th>148</th>\n",
       "      <td>0</td>\n",
       "      <td>0</td>\n",
       "      <td>1</td>\n",
       "    </tr>\n",
       "    <tr>\n",
       "      <th>149</th>\n",
       "      <td>0</td>\n",
       "      <td>0</td>\n",
       "      <td>1</td>\n",
       "    </tr>\n",
       "  </tbody>\n",
       "</table>\n",
       "<p>150 rows × 3 columns</p>\n",
       "</div>"
      ],
      "text/plain": [
       "     Iris-setosa  Iris-versicolor  Iris-virginica\n",
       "0              1                0               0\n",
       "1              1                0               0\n",
       "2              1                0               0\n",
       "3              1                0               0\n",
       "4              1                0               0\n",
       "..           ...              ...             ...\n",
       "145            0                0               1\n",
       "146            0                0               1\n",
       "147            0                0               1\n",
       "148            0                0               1\n",
       "149            0                0               1\n",
       "\n",
       "[150 rows x 3 columns]"
      ]
     },
     "execution_count": 9,
     "metadata": {},
     "output_type": "execute_result"
    }
   ],
   "source": [
    "X = np.array(df.iloc[:, 1:5 ])\n",
    "y = df[[\"Iris-setosa\",\"Iris-versicolor\", \"Iris-virginica\"]]\n",
    "y"
   ]
  },
  {
   "cell_type": "code",
   "execution_count": 10,
   "metadata": {},
   "outputs": [
    {
     "name": "stdout",
     "output_type": "stream",
     "text": [
      "     Iris-setosa  Iris-versicolor  Iris-virginica\n",
      "82             0                1               0\n",
      "134            0                0               1\n",
      "114            0                0               1\n",
      "42             1                0               0\n",
      "109            0                0               1\n",
      "57             0                1               0\n",
      "1              1                0               0\n",
      "70             0                1               0\n",
      "25             1                0               0\n",
      "84             0                1               0\n",
      "66             0                1               0\n",
      "133            0                0               1\n",
      "102            0                0               1\n",
      "107            0                0               1\n",
      "26             1                0               0\n",
      "23             1                0               0\n",
      "123            0                0               1\n",
      "130            0                0               1\n",
      "21             1                0               0\n",
      "12             1                0               0\n",
      "71             0                1               0\n",
      "128            0                0               1\n",
      "48             1                0               0\n",
      "72             0                1               0\n",
      "88             0                1               0\n",
      "148            0                0               1\n",
      "74             0                1               0\n",
      "96             0                1               0\n",
      "63             0                1               0\n",
      "132            0                0               1\n"
     ]
    }
   ],
   "source": [
    "X_train, X_test, Y_train, Y_test = train_test_split(X, y, test_size=0.2, random_state =5 )\n",
    "# print(Y_test)\n",
    "print(Y_test)"
   ]
  },
  {
   "cell_type": "code",
   "execution_count": 11,
   "metadata": {},
   "outputs": [],
   "source": [
    "#visualisation des données\n",
    "# plt.figure(figsize=(10, 6))\n",
    "# plt.scatter(X[y == 0][:, 0], X[y == 0][:, 1], color='g', label='0')\n",
    "# plt.scatter(X[y == 1][:, 0], X[y == 1][:, 1], color='y', label='1')\n",
    "# plt.scatter(X[y == 2][:, 0], X[y == 2][:, 1], color='r', label='2')\n",
    "# plt.xlabel(\"Longueur (cm)\")\n",
    "# plt.ylabel(\"Largeur (cm)\")\n",
    "# plt.title(\"Les 3 catégories de fleurs d'IRIS \")\n",
    "# plt.legend();"
   ]
  },
  {
   "cell_type": "code",
   "execution_count": 12,
   "metadata": {},
   "outputs": [
    {
     "data": {
      "text/plain": [
       "Id                 0\n",
       "SepalLengthCm      0\n",
       "SepalWidthCm       0\n",
       "PetalLengthCm      0\n",
       "PetalWidthCm       0\n",
       "Iris-setosa        0\n",
       "Iris-versicolor    0\n",
       "Iris-virginica     0\n",
       "dtype: int64"
      ]
     },
     "execution_count": 12,
     "metadata": {},
     "output_type": "execute_result"
    }
   ],
   "source": [
    "df.isnull().sum()"
   ]
  },
  {
   "cell_type": "code",
   "execution_count": 13,
   "metadata": {},
   "outputs": [
    {
     "data": {
      "text/plain": [
       "Id                   int64\n",
       "SepalLengthCm      float64\n",
       "SepalWidthCm       float64\n",
       "PetalLengthCm      float64\n",
       "PetalWidthCm       float64\n",
       "Iris-setosa          uint8\n",
       "Iris-versicolor      uint8\n",
       "Iris-virginica       uint8\n",
       "dtype: object"
      ]
     },
     "execution_count": 13,
     "metadata": {},
     "output_type": "execute_result"
    }
   ],
   "source": [
    "df.dtypes"
   ]
  },
  {
   "cell_type": "code",
   "execution_count": 14,
   "metadata": {},
   "outputs": [
    {
     "data": {
      "text/html": [
       "<div>\n",
       "<style scoped>\n",
       "    .dataframe tbody tr th:only-of-type {\n",
       "        vertical-align: middle;\n",
       "    }\n",
       "\n",
       "    .dataframe tbody tr th {\n",
       "        vertical-align: top;\n",
       "    }\n",
       "\n",
       "    .dataframe thead th {\n",
       "        text-align: right;\n",
       "    }\n",
       "</style>\n",
       "<table border=\"1\" class=\"dataframe\">\n",
       "  <thead>\n",
       "    <tr style=\"text-align: right;\">\n",
       "      <th></th>\n",
       "      <th>Id</th>\n",
       "      <th>SepalLengthCm</th>\n",
       "      <th>SepalWidthCm</th>\n",
       "      <th>PetalLengthCm</th>\n",
       "      <th>PetalWidthCm</th>\n",
       "      <th>Iris-setosa</th>\n",
       "      <th>Iris-versicolor</th>\n",
       "      <th>Iris-virginica</th>\n",
       "    </tr>\n",
       "  </thead>\n",
       "  <tbody>\n",
       "    <tr>\n",
       "      <th>count</th>\n",
       "      <td>150.000000</td>\n",
       "      <td>150.000000</td>\n",
       "      <td>150.000000</td>\n",
       "      <td>150.000000</td>\n",
       "      <td>150.000000</td>\n",
       "      <td>150.000000</td>\n",
       "      <td>150.000000</td>\n",
       "      <td>150.000000</td>\n",
       "    </tr>\n",
       "    <tr>\n",
       "      <th>mean</th>\n",
       "      <td>75.500000</td>\n",
       "      <td>5.843333</td>\n",
       "      <td>3.054000</td>\n",
       "      <td>3.758667</td>\n",
       "      <td>1.198667</td>\n",
       "      <td>0.333333</td>\n",
       "      <td>0.333333</td>\n",
       "      <td>0.333333</td>\n",
       "    </tr>\n",
       "    <tr>\n",
       "      <th>std</th>\n",
       "      <td>43.445368</td>\n",
       "      <td>0.828066</td>\n",
       "      <td>0.433594</td>\n",
       "      <td>1.764420</td>\n",
       "      <td>0.763161</td>\n",
       "      <td>0.472984</td>\n",
       "      <td>0.472984</td>\n",
       "      <td>0.472984</td>\n",
       "    </tr>\n",
       "    <tr>\n",
       "      <th>min</th>\n",
       "      <td>1.000000</td>\n",
       "      <td>4.300000</td>\n",
       "      <td>2.000000</td>\n",
       "      <td>1.000000</td>\n",
       "      <td>0.100000</td>\n",
       "      <td>0.000000</td>\n",
       "      <td>0.000000</td>\n",
       "      <td>0.000000</td>\n",
       "    </tr>\n",
       "    <tr>\n",
       "      <th>25%</th>\n",
       "      <td>38.250000</td>\n",
       "      <td>5.100000</td>\n",
       "      <td>2.800000</td>\n",
       "      <td>1.600000</td>\n",
       "      <td>0.300000</td>\n",
       "      <td>0.000000</td>\n",
       "      <td>0.000000</td>\n",
       "      <td>0.000000</td>\n",
       "    </tr>\n",
       "    <tr>\n",
       "      <th>50%</th>\n",
       "      <td>75.500000</td>\n",
       "      <td>5.800000</td>\n",
       "      <td>3.000000</td>\n",
       "      <td>4.350000</td>\n",
       "      <td>1.300000</td>\n",
       "      <td>0.000000</td>\n",
       "      <td>0.000000</td>\n",
       "      <td>0.000000</td>\n",
       "    </tr>\n",
       "    <tr>\n",
       "      <th>75%</th>\n",
       "      <td>112.750000</td>\n",
       "      <td>6.400000</td>\n",
       "      <td>3.300000</td>\n",
       "      <td>5.100000</td>\n",
       "      <td>1.800000</td>\n",
       "      <td>1.000000</td>\n",
       "      <td>1.000000</td>\n",
       "      <td>1.000000</td>\n",
       "    </tr>\n",
       "    <tr>\n",
       "      <th>max</th>\n",
       "      <td>150.000000</td>\n",
       "      <td>7.900000</td>\n",
       "      <td>4.400000</td>\n",
       "      <td>6.900000</td>\n",
       "      <td>2.500000</td>\n",
       "      <td>1.000000</td>\n",
       "      <td>1.000000</td>\n",
       "      <td>1.000000</td>\n",
       "    </tr>\n",
       "  </tbody>\n",
       "</table>\n",
       "</div>"
      ],
      "text/plain": [
       "               Id  SepalLengthCm  SepalWidthCm  PetalLengthCm  PetalWidthCm  \\\n",
       "count  150.000000     150.000000    150.000000     150.000000    150.000000   \n",
       "mean    75.500000       5.843333      3.054000       3.758667      1.198667   \n",
       "std     43.445368       0.828066      0.433594       1.764420      0.763161   \n",
       "min      1.000000       4.300000      2.000000       1.000000      0.100000   \n",
       "25%     38.250000       5.100000      2.800000       1.600000      0.300000   \n",
       "50%     75.500000       5.800000      3.000000       4.350000      1.300000   \n",
       "75%    112.750000       6.400000      3.300000       5.100000      1.800000   \n",
       "max    150.000000       7.900000      4.400000       6.900000      2.500000   \n",
       "\n",
       "       Iris-setosa  Iris-versicolor  Iris-virginica  \n",
       "count   150.000000       150.000000      150.000000  \n",
       "mean      0.333333         0.333333        0.333333  \n",
       "std       0.472984         0.472984        0.472984  \n",
       "min       0.000000         0.000000        0.000000  \n",
       "25%       0.000000         0.000000        0.000000  \n",
       "50%       0.000000         0.000000        0.000000  \n",
       "75%       1.000000         1.000000        1.000000  \n",
       "max       1.000000         1.000000        1.000000  "
      ]
     },
     "execution_count": 14,
     "metadata": {},
     "output_type": "execute_result"
    }
   ],
   "source": [
    "df.describe()"
   ]
  },
  {
   "cell_type": "code",
   "execution_count": 15,
   "metadata": {},
   "outputs": [
    {
     "name": "stdout",
     "output_type": "stream",
     "text": [
      "<class 'pandas.core.frame.DataFrame'>\n",
      "RangeIndex: 150 entries, 0 to 149\n",
      "Data columns (total 8 columns):\n",
      " #   Column           Non-Null Count  Dtype  \n",
      "---  ------           --------------  -----  \n",
      " 0   Id               150 non-null    int64  \n",
      " 1   SepalLengthCm    150 non-null    float64\n",
      " 2   SepalWidthCm     150 non-null    float64\n",
      " 3   PetalLengthCm    150 non-null    float64\n",
      " 4   PetalWidthCm     150 non-null    float64\n",
      " 5   Iris-setosa      150 non-null    uint8  \n",
      " 6   Iris-versicolor  150 non-null    uint8  \n",
      " 7   Iris-virginica   150 non-null    uint8  \n",
      "dtypes: float64(4), int64(1), uint8(3)\n",
      "memory usage: 6.4 KB\n"
     ]
    }
   ],
   "source": [
    "df.info()"
   ]
  },
  {
   "cell_type": "code",
   "execution_count": 16,
   "metadata": {},
   "outputs": [
    {
     "name": "stdout",
     "output_type": "stream",
     "text": [
      "The Pearson Correlation Coefficient is -0.10936924995064938  with a P-value of P =  0.18276521527134995\n"
     ]
    }
   ],
   "source": [
    "pearson_coef, p_value = stats.pearsonr(df['SepalLengthCm'], df['SepalWidthCm'])\n",
    "print( \"The Pearson Correlation Coefficient is\", pearson_coef, \" with a P-value of P = \", p_value ) "
   ]
  },
  {
   "cell_type": "code",
   "execution_count": null,
   "metadata": {},
   "outputs": [],
   "source": []
  },
  {
   "cell_type": "code",
   "execution_count": null,
   "metadata": {},
   "outputs": [],
   "source": []
  },
  {
   "cell_type": "code",
   "execution_count": null,
   "metadata": {},
   "outputs": [],
   "source": []
  },
  {
   "cell_type": "markdown",
   "metadata": {},
   "source": [
    "Developpement et Conception du Modèle"
   ]
  },
  {
   "cell_type": "code",
   "execution_count": 17,
   "metadata": {},
   "outputs": [],
   "source": [
    "def classificationCase(C, g):\n",
    "    models = (\n",
    "    svm.SVC(kernel=\"linear\", C=C),\n",
    "    svm.LinearSVC(C=C, max_iter=100000),\n",
    "    svm.SVC(kernel=\"rbf\", gamma=g, C=C),\n",
    "    svm.SVC(kernel=\"poly\", degree=3, gamma=g, C=C),\n",
    "    )\n",
    "    return models\n",
    "\n",
    "def regressionCase(C,g):\n",
    "    models = (\n",
    "    svm.SVR(kernel=\"linear\", C=C),\n",
    "    svm.LinearSVR(C=C, max_iter=100000),\n",
    "    svm.SVR(kernel=\"rbf\", gamma=g, C=C),\n",
    "    svm.SVR(kernel=\"poly\", degree=3, gamma=g, C=C),\n",
    "    )\n",
    "    return models\n",
    "\n",
    "def mo_models(each_model):\n",
    "    for i in range(len(each_model)):\n",
    "        print(each_model)"
   ]
  },
  {
   "cell_type": "code",
   "execution_count": 18,
   "metadata": {},
   "outputs": [
    {
     "name": "stdout",
     "output_type": "stream",
     "text": [
      "SVC(C=10, kernel='linear')\n",
      "LinearSVC(C=10, max_iter=100000)\n",
      "SVC(C=10, gamma=0.1)\n",
      "SVC(C=10, gamma=0.1, kernel='poly')\n"
     ]
    }
   ],
   "source": [
    "# print(mo_models(classificationCase(10, 0.1)))\n",
    "# a = MultiOutputClassifier(i for i in classificationCase(C, g))\n",
    "for i in range(len(classificationCase(10, 0.1))):\n",
    "    print(classificationCase(10, 0.1)[i])"
   ]
  },
  {
   "cell_type": "code",
   "execution_count": 19,
   "metadata": {},
   "outputs": [
    {
     "name": "stdout",
     "output_type": "stream",
     "text": [
      "C:  10 \n",
      "gamma:  0.1\n"
     ]
    }
   ],
   "source": [
    "# nous créons une instance de SVM et aménageons les données. Nous ne dimensionnons pas notre\n",
    "# données puisque nous voulons tracer les vecteurs de support\n",
    "# Recherche par l'agorithme de Tuning du paramètre de regularisation SVM\n",
    "\n",
    "choice = int(input(\"Tapez 1 si vous voulez faire de la classification ou 2 si la regression\\n\"))\n",
    "\n",
    "\n",
    "param_grid = {\"estimator__C\": [0.1, 1, 3, 10], \"estimator__gamma\": [1, 0.1, 0.7, 0.01 ]} # \n",
    "if(choice==1):\n",
    "    grid = GridSearchCV(estimator= MultiOutputClassifier(estimator=SVC()), param_grid= param_grid )  # , refit=True,verbose=3\n",
    "    grid.fit(X_train, Y_train)\n",
    "    C = grid.best_params_['estimator__C']\n",
    "    g = grid.best_params_['estimator__gamma']\n",
    "    print(\"C: \", C, \"\\ngamma: \", g)\n",
    "    models = []\n",
    "    for i in range(len(classificationCase(C, g))):\n",
    "        models.append(MultiOutputClassifier(classificationCase(C, g)[i])) # [i for i in classificationCase(C, g)])\n",
    "     \n",
    "\n",
    "else:\n",
    "    grid = GridSearchCV(estimator= MultiOutputRegressor(estimator=svm.SVR()), param_grid=param_grid)  # , refit=True,verbose=3\n",
    "    grid.fit(X_train, Y_train)\n",
    "    C = grid.best_params_['estimator__C']\n",
    "    g = grid.best_params_['estimator__gamma']\n",
    "    print(grid)\n",
    "    models = []\n",
    "    for i in range(len(regressionCase(C, g))):\n",
    "        models.append(MultiOutputRegressor(regressionCase(C, g)[i]))\n",
    "\n",
    "# titre des graphes\n",
    "titles = (\n",
    "    \"SVC with linear kernel\",\n",
    "    \"LinearSVC (linear kernel)\",\n",
    "    \"SVC with RBF kernel\",\n",
    "    \"SVC with polynomial (degree 3) kernel\",\n",
    ")"
   ]
  },
  {
   "cell_type": "code",
   "execution_count": 20,
   "metadata": {},
   "outputs": [
    {
     "name": "stdout",
     "output_type": "stream",
     "text": [
      "[MultiOutputClassifier(estimator=SVC(C=10, kernel='linear')), MultiOutputClassifier(estimator=LinearSVC(C=10, max_iter=100000)), MultiOutputClassifier(estimator=SVC(C=10, gamma=0.1)), MultiOutputClassifier(estimator=SVC(C=10, gamma=0.1, kernel='poly'))]\n"
     ]
    }
   ],
   "source": [
    "print(models)"
   ]
  },
  {
   "cell_type": "code",
   "execution_count": 21,
   "metadata": {},
   "outputs": [
    {
     "name": "stdout",
     "output_type": "stream",
     "text": [
      " -Implementation MultiOutputClassifier(estimator=SVC(C=10, kernel='linear'))\n",
      "Valeur predite:\n",
      "[[0 1 0]\n",
      " [0 1 1]\n",
      " [0 0 1]\n",
      " [1 0 0]\n",
      " [0 0 1]]\n",
      "Ce qui est attendu:\n",
      "      Iris-setosa  Iris-versicolor  Iris-virginica\n",
      "82             0                1               0\n",
      "134            0                0               1\n",
      "114            0                0               1\n",
      "42             1                0               0\n",
      "109            0                0               1\n",
      "Les métriques MultiOutputClassifier(estimator=SVC(C=10, kernel='linear'))\n",
      "Accuracy_score  0.7\n",
      "Matice de confusion\n"
     ]
    },
    {
     "name": "stderr",
     "output_type": "stream",
     "text": [
      "c:\\Users\\Oussou\\AppData\\Local\\Programs\\Python\\Python310\\lib\\site-packages\\matplotlib\\text.py:1241: FutureWarning: elementwise comparison failed; returning scalar instead, but in the future will perform elementwise comparison\n",
      "  if s != self._text:\n"
     ]
    },
    {
     "data": {
      "image/png": "[encoded data removed]",
      "text/plain": [
       "<Figure size 640x480 with 2 Axes>"
      ]
     },
     "metadata": {},
     "output_type": "display_data"
    },
    {
     "name": "stdout",
     "output_type": "stream",
     "text": [
      "classification_report\n",
      "              precision    recall  f1-score   support\n",
      "\n",
      "           0       1.00      1.00      1.00         8\n",
      "           1       0.60      0.55      0.57        11\n",
      "           2       0.92      1.00      0.96        11\n",
      "\n",
      "   micro avg       0.83      0.83      0.83        30\n",
      "   macro avg       0.84      0.85      0.84        30\n",
      "weighted avg       0.82      0.83      0.83        30\n",
      " samples avg       0.77      0.83      0.79        30\n",
      "\n",
      "Le MSE (mean square error) value is:  0.1111111111111111\n",
      "Le score est:  0.7\n",
      "\n",
      "\n",
      "\n"
     ]
    },
    {
     "name": "stderr",
     "output_type": "stream",
     "text": [
      "c:\\Users\\Oussou\\AppData\\Local\\Programs\\Python\\Python310\\lib\\site-packages\\sklearn\\metrics\\_classification.py:1344: UndefinedMetricWarning: Precision and F-score are ill-defined and being set to 0.0 in samples with no predicted labels. Use `zero_division` parameter to control this behavior.\n",
      "  _warn_prf(average, modifier, msg_start, len(result))\n"
     ]
    },
    {
     "name": "stdout",
     "output_type": "stream",
     "text": [
      " -Implementation MultiOutputClassifier(estimator=LinearSVC(C=10, max_iter=100000))\n",
      "Valeur predite:\n",
      "[[0 1 0]\n",
      " [0 1 1]\n",
      " [0 0 1]\n",
      " [1 0 0]\n",
      " [0 0 1]]\n",
      "Ce qui est attendu:\n",
      "      Iris-setosa  Iris-versicolor  Iris-virginica\n",
      "82             0                1               0\n",
      "134            0                0               1\n",
      "114            0                0               1\n",
      "42             1                0               0\n",
      "109            0                0               1\n",
      "Les métriques MultiOutputClassifier(estimator=LinearSVC(C=10, max_iter=100000))\n",
      "Accuracy_score  0.6666666666666666\n",
      "Matice de confusion\n"
     ]
    },
    {
     "name": "stderr",
     "output_type": "stream",
     "text": [
      "c:\\Users\\Oussou\\AppData\\Local\\Programs\\Python\\Python310\\lib\\site-packages\\matplotlib\\text.py:1241: FutureWarning: elementwise comparison failed; returning scalar instead, but in the future will perform elementwise comparison\n",
      "  if s != self._text:\n"
     ]
    },
    {
     "data": {
      "image/png": "[encoded data removed]",
      "text/plain": [
       "<Figure size 640x480 with 2 Axes>"
      ]
     },
     "metadata": {},
     "output_type": "display_data"
    },
    {
     "name": "stdout",
     "output_type": "stream",
     "text": [
      "classification_report\n",
      "              precision    recall  f1-score   support\n",
      "\n",
      "           0       1.00      1.00      1.00         8\n",
      "           1       0.56      0.45      0.50        11\n",
      "           2       0.91      0.91      0.91        11\n",
      "\n",
      "   micro avg       0.82      0.77      0.79        30\n",
      "   macro avg       0.82      0.79      0.80        30\n",
      "weighted avg       0.80      0.77      0.78        30\n",
      " samples avg       0.72      0.77      0.73        30\n",
      "\n",
      "Le MSE (mean square error) value is:  0.13333333333333333\n",
      "Le score est:  0.6666666666666666\n",
      "\n",
      "\n",
      "\n",
      " -Implementation MultiOutputClassifier(estimator=SVC(C=10, gamma=0.1))\n",
      "Valeur predite:\n",
      "[[0 1 0]\n",
      " [0 0 1]\n",
      " [0 0 1]\n",
      " [1 0 0]\n",
      " [0 0 1]]\n",
      "Ce qui est attendu:\n",
      "      Iris-setosa  Iris-versicolor  Iris-virginica\n",
      "82             0                1               0\n",
      "134            0                0               1\n",
      "114            0                0               1\n",
      "42             1                0               0\n",
      "109            0                0               1\n",
      "Les métriques MultiOutputClassifier(estimator=SVC(C=10, gamma=0.1))\n",
      "Accuracy_score  0.9666666666666667\n",
      "Matice de confusion\n"
     ]
    },
    {
     "name": "stderr",
     "output_type": "stream",
     "text": [
      "c:\\Users\\Oussou\\AppData\\Local\\Programs\\Python\\Python310\\lib\\site-packages\\sklearn\\metrics\\_classification.py:1344: UndefinedMetricWarning: Precision and F-score are ill-defined and being set to 0.0 in samples with no predicted labels. Use `zero_division` parameter to control this behavior.\n",
      "  _warn_prf(average, modifier, msg_start, len(result))\n",
      "c:\\Users\\Oussou\\AppData\\Local\\Programs\\Python\\Python310\\lib\\site-packages\\matplotlib\\text.py:1241: FutureWarning: elementwise comparison failed; returning scalar instead, but in the future will perform elementwise comparison\n",
      "  if s != self._text:\n"
     ]
    },
    {
     "data": {
      "image/png": "[encoded data removed]",
      "text/plain": [
       "<Figure size 640x480 with 2 Axes>"
      ]
     },
     "metadata": {},
     "output_type": "display_data"
    },
    {
     "name": "stdout",
     "output_type": "stream",
     "text": [
      "classification_report\n",
      "              precision    recall  f1-score   support\n",
      "\n",
      "           0       1.00      1.00      1.00         8\n",
      "           1       1.00      0.91      0.95        11\n",
      "           2       0.92      1.00      0.96        11\n",
      "\n",
      "   micro avg       0.97      0.97      0.97        30\n",
      "   macro avg       0.97      0.97      0.97        30\n",
      "weighted avg       0.97      0.97      0.97        30\n",
      " samples avg       0.97      0.97      0.97        30\n",
      "\n",
      "Le MSE (mean square error) value is:  0.022222222222222223\n",
      "Le score est:  0.9666666666666667\n",
      "\n",
      "\n",
      "\n",
      " -Implementation MultiOutputClassifier(estimator=SVC(C=10, gamma=0.1, kernel='poly'))\n",
      "Valeur predite:\n",
      "[[0 1 0]\n",
      " [0 0 1]\n",
      " [0 0 1]\n",
      " [1 0 0]\n",
      " [0 0 1]]\n",
      "Ce qui est attendu:\n",
      "      Iris-setosa  Iris-versicolor  Iris-virginica\n",
      "82             0                1               0\n",
      "134            0                0               1\n",
      "114            0                0               1\n",
      "42             1                0               0\n",
      "109            0                0               1\n",
      "Les métriques MultiOutputClassifier(estimator=SVC(C=10, gamma=0.1, kernel='poly'))\n",
      "Accuracy_score  0.9333333333333333\n",
      "Matice de confusion\n"
     ]
    },
    {
     "name": "stderr",
     "output_type": "stream",
     "text": [
      "c:\\Users\\Oussou\\AppData\\Local\\Programs\\Python\\Python310\\lib\\site-packages\\matplotlib\\text.py:1241: FutureWarning: elementwise comparison failed; returning scalar instead, but in the future will perform elementwise comparison\n",
      "  if s != self._text:\n"
     ]
    },
    {
     "data": {
      "image/png": "[encoded data removed]",
      "text/plain": [
       "<Figure size 640x480 with 2 Axes>"
      ]
     },
     "metadata": {},
     "output_type": "display_data"
    },
    {
     "name": "stdout",
     "output_type": "stream",
     "text": [
      "classification_report\n",
      "              precision    recall  f1-score   support\n",
      "\n",
      "           0       1.00      1.00      1.00         8\n",
      "           1       1.00      0.91      0.95        11\n",
      "           2       0.91      0.91      0.91        11\n",
      "\n",
      "   micro avg       0.97      0.93      0.95        30\n",
      "   macro avg       0.97      0.94      0.95        30\n",
      "weighted avg       0.97      0.93      0.95        30\n",
      " samples avg       0.93      0.93      0.93        30\n",
      "\n",
      "Le MSE (mean square error) value is:  0.03333333333333333\n",
      "Le score est:  0.9333333333333333\n",
      "\n",
      "\n",
      "\n"
     ]
    },
    {
     "name": "stderr",
     "output_type": "stream",
     "text": [
      "c:\\Users\\Oussou\\AppData\\Local\\Programs\\Python\\Python310\\lib\\site-packages\\sklearn\\metrics\\_classification.py:1344: UndefinedMetricWarning: Precision and F-score are ill-defined and being set to 0.0 in samples with no predicted labels. Use `zero_division` parameter to control this behavior.\n",
      "  _warn_prf(average, modifier, msg_start, len(result))\n"
     ]
    }
   ],
   "source": [
    "\n",
    "for clf in models:\n",
    "    clf.fit(X_train, Y_train)\n",
    "    yhat= clf.predict(X_test)\n",
    "    print(\" -Implementation\", clf)\n",
    "    print(\"Valeur predite:\")\n",
    "    print(yhat[:5])\n",
    "    print(\"Ce qui est attendu:\\n\",Y_test[:5])\n",
    "\n",
    "    print(\"Les métriques\", clf)\n",
    "    mse = mean_squared_error(Y_test, yhat)\n",
    "    score = clf.score(X_test, Y_test)\n",
    "    if(choice==1):\n",
    "        acc = accuracy_score(Y_test, yhat)\n",
    "        print(\"Accuracy_score \", acc)\n",
    "\n",
    "        print(\"Matice de confusion\")\n",
    "        arrayList_Y_test = np.asarray(Y_test)\n",
    "        arrayList_yhat = np.asarray(yhat)\n",
    "        matrix =confusion_matrix(arrayList_Y_test.argmax(axis=1), arrayList_yhat.argmax(axis=1))\n",
    "        # print(matrix)\n",
    "        # plt.figure()\n",
    "        disp = ConfusionMatrixDisplay(confusion_matrix=matrix, display_labels=clf.classes_) \n",
    "        disp.plot()\n",
    "        plt.show()\n",
    "        # sns.heatmap(matrix, annot= True)\n",
    "\n",
    "        print(\"classification_report\")\n",
    "        classification=classification_report(Y_test, yhat)\n",
    "        print(classification)\n",
    "\n",
    "    print('Le MSE (mean square error) value is: ', mse)\n",
    "    print(\"Le score est: \", score)\n",
    "    print(\"\\n\\n\")"
   ]
  },
  {
   "attachments": {},
   "cell_type": "markdown",
   "metadata": {},
   "source": [
    "## Le code ci-dessous ne concerne pas ni les multi-output, ni les multi-class, ni les multilabel, or on est dans un cas Multiclass\n",
    "Elle fut utilisé dans le cas simple de svm oùu on avait utilisé le dataset **iris** intégré  dans la biblithèque. Remarque: celui-ci a étiquetté le output par les classe 0, 1, 2. Ces derniers étaient ainsi utilisés pour la prediction (chose non recommandé), d'où l'objet de la **veille6 étendue en appliquant le onehot**  à savoir, appliquer le one-hot"
   ]
  },
  {
   "cell_type": "code",
   "execution_count": 22,
   "metadata": {},
   "outputs": [],
   "source": [
    "# # Regler la grille des graphe à 2x2  \n",
    "# fig, sub = plt.subplots(2, 2)\n",
    "# plt.subplots_adjust(wspace=0.4, hspace=0.4)\n",
    "\n",
    "# X0, X1 = X[:, 0], X[:, 1]\n",
    "\n",
    "# for clf, title, ax in zip(models, titles, sub.flatten()):\n",
    "#     disp = DecisionBoundaryDisplay.from_estimator(\n",
    "#         clf,\n",
    "#         X, # X doit être de dimension 2\n",
    "#         response_method=\"predict\",\n",
    "#         cmap=plt.cm.coolwarm,\n",
    "#         alpha=0.8,\n",
    "#         ax=ax,\n",
    "#         xlabel=iris.feature_names[0],\n",
    "#         ylabel=iris.feature_names[1],\n",
    "#     )\n",
    "#     ax.scatter(X0, X1, c=y, cmap=plt.cm.coolwarm, s=20, edgecolors=\"k\")\n",
    "#     ax.set_xticks(())\n",
    "#     ax.set_yticks(())\n",
    "#     ax.set_title(title)\n",
    "\n",
    "# plt.show()"
   ]
  },
  {
   "cell_type": "code",
   "execution_count": null,
   "metadata": {},
   "outputs": [],
   "source": []
  },
  {
   "cell_type": "code",
   "execution_count": null,
   "metadata": {},
   "outputs": [],
   "source": []
  }
 ],
 "metadata": {
  "kernelspec": {
   "display_name": "Python 3 (ipykernel)",
   "language": "python",
   "name": "python3"
  },
  "language_info": {
   "codemirror_mode": {
    "name": "ipython",
    "version": 3
   },
   "file_extension": ".py",
   "mimetype": "text/x-python",
   "name": "python",
   "nbconvert_exporter": "python",
   "pygments_lexer": "ipython3",
   "version": "3.10.4"
  },
  "vscode": {
   "interpreter": {
    "hash": "0187438eba99bd7a5255dd0c491934e3157b8001b931565cd79de712549588d7"
   }
  }
 },
 "nbformat": 4,
 "nbformat_minor": 2
}
