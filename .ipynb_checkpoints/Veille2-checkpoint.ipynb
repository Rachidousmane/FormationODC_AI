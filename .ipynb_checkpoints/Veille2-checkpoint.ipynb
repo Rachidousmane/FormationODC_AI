{
 "cells": [
  {
   "cell_type": "markdown",
   "id": "69938059",
   "metadata": {},
   "source": [
    "# NumPy Illustrated: The Visual Guide to NumPy"
   ]
  },
  {
   "cell_type": "markdown",
   "id": "be1902e0",
   "metadata": {},
   "source": [
    "### Pourquoi Numpy au lieu des Listes en python?\n",
    "L'exemple le plus simple lorsque les tableaux NumPy battent des listes est arithmétique :\n",
    "- plus compact, surtout lorsqu'il y a plus d'une dimension\n",
    "- plus rapide que les listes lorsque l'opération peut être vectorisée\n",
    "- plus lent que les listes lorsque vous ajoutez des éléments à la fin\n",
    "- habituellement homogène : ne peut travailler rapidement qu'avec des éléments d'un seul type"
   ]
  },
  {
   "cell_type": "markdown",
   "id": "b105eda5",
   "metadata": {},
   "source": [
    "Quelques significations:\n",
    "- O(N)  --> see Big-O Cheat Sheet And (proportional to the size of the array)\n",
    "- O*(1) --> the so-called “amortized” O(1) (le temps d'execution ne dépend généralement pas de la taille du tableau)"
   ]
  },
  {
   "cell_type": "markdown",
   "id": "1437a8ef",
   "metadata": {},
   "source": [
    "## 1-Numpy Array vs. Python List"
   ]
  },
  {
   "cell_type": "markdown",
   "id": "f4645d10",
   "metadata": {},
   "source": [
    "### 1_1-With python List"
   ]
  },
  {
   "cell_type": "code",
   "execution_count": 2,
   "id": "f03124c9",
   "metadata": {},
   "outputs": [
    {
     "name": "stdout",
     "output_type": "stream",
     "text": [
      "Avec la list en python\n"
     ]
    },
    {
     "data": {
      "text/plain": [
       "[2, 4, 6]"
      ]
     },
     "execution_count": 2,
     "metadata": {},
     "output_type": "execute_result"
    }
   ],
   "source": [
    "# Mutiplication d'une liste python par 2 \n",
    "a = [1, 2, 3]\n",
    "print(\"Avec la list en python\")\n",
    "[q*2 for q in a]"
   ]
  },
  {
   "cell_type": "code",
   "execution_count": 3,
   "id": "f9714f9c",
   "metadata": {},
   "outputs": [
    {
     "data": {
      "text/plain": [
       "[5, 7, 9]"
      ]
     },
     "execution_count": 3,
     "metadata": {},
     "output_type": "execute_result"
    }
   ],
   "source": [
    "# Somme de 2 tableaux avec les list Python\n",
    "a = [1, 2, 3]\n",
    "b = [4, 5, 6]\n",
    "[q+r for q,r in zip(a, b)]"
   ]
  },
  {
   "cell_type": "markdown",
   "id": "cc6cc44d",
   "metadata": {},
   "source": [
    "### 1_2-With Numpy library"
   ]
  },
  {
   "cell_type": "code",
   "execution_count": 8,
   "id": "5b336a7b",
   "metadata": {},
   "outputs": [
    {
     "name": "stdout",
     "output_type": "stream",
     "text": [
      "Avec la Biblio Numpy\n"
     ]
    },
    {
     "data": {
      "text/plain": [
       "array([2, 4, 6])"
      ]
     },
     "execution_count": 8,
     "metadata": {},
     "output_type": "execute_result"
    }
   ],
   "source": [
    "# Mutiplication d'un tableau (numpy) par 2 \n",
    "import numpy as np\n",
    "a = np.array([1, 2, 3])\n",
    "print(\"Avec la Biblio Numpy\")\n",
    "a*2"
   ]
  },
  {
   "cell_type": "code",
   "execution_count": 9,
   "id": "28225e13",
   "metadata": {},
   "outputs": [
    {
     "data": {
      "text/plain": [
       "array([5, 7, 9])"
      ]
     },
     "execution_count": 9,
     "metadata": {},
     "output_type": "execute_result"
    }
   ],
   "source": [
    "# Somme de 2 tableaux avec Numpy\n",
    "a = np.array([1, 2, 3])\n",
    "b = np.array([4, 5, 6])\n",
    "a + b"
   ]
  },
  {
   "cell_type": "markdown",
   "id": "398e8c60",
   "metadata": {},
   "source": [
    "## 2. Vectors, the 1D Arrays"
   ]
  },
  {
   "cell_type": "markdown",
   "id": "27c49273",
   "metadata": {},
   "source": [
    "## 2_1-Vector initialization"
   ]
  },
  {
   "cell_type": "code",
   "execution_count": 10,
   "id": "6f7884ad",
   "metadata": {},
   "outputs": [],
   "source": [
    "a = np.array([1., 2., 3.])"
   ]
  },
  {
   "cell_type": "code",
   "execution_count": 11,
   "id": "b2a3c119",
   "metadata": {},
   "outputs": [
    {
     "data": {
      "text/plain": [
       "dtype('float64')"
      ]
     },
     "execution_count": 11,
     "metadata": {},
     "output_type": "execute_result"
    }
   ],
   "source": [
    "#Afficher le type du tableau\n",
    "a.dtype"
   ]
  },
  {
   "cell_type": "code",
   "execution_count": 12,
   "id": "0bdd37c7",
   "metadata": {},
   "outputs": [
    {
     "data": {
      "text/plain": [
       "(3,)"
      ]
     },
     "execution_count": 12,
     "metadata": {},
     "output_type": "execute_result"
    }
   ],
   "source": [
    "#Afficher la dimension du tableau\n",
    "a.shape"
   ]
  },
  {
   "cell_type": "code",
   "execution_count": 13,
   "id": "28fdde49",
   "metadata": {},
   "outputs": [
    {
     "name": "stdout",
     "output_type": "stream",
     "text": [
      "L'array suivant est de type :  int32\n"
     ]
    },
    {
     "data": {
      "text/plain": [
       "array([0, 0, 0])"
      ]
     },
     "execution_count": 13,
     "metadata": {},
     "output_type": "execute_result"
    }
   ],
   "source": [
    "# préallouer l'espace nécessaire pour un tableau\n",
    "b = np.zeros(3, int)\n",
    "print(\"L'array suivant est de type : \", b.dtype)\n",
    "b"
   ]
  },
  {
   "cell_type": "markdown",
   "id": "5d62423d",
   "metadata": {},
   "source": [
    "Il est souvent nécessaire de créer un tableau vide qui correspond à celui existant par forme et type d'éléments"
   ]
  },
  {
   "cell_type": "code",
   "execution_count": 14,
   "id": "88d57a8f",
   "metadata": {},
   "outputs": [
    {
     "name": "stdout",
     "output_type": "stream",
     "text": [
      "L'array suivant crée en fonction de a est de type: float64\n",
      "Et de taille--> (3,)\n"
     ]
    },
    {
     "data": {
      "text/plain": [
       "array([0., 0., 0.])"
      ]
     },
     "execution_count": 14,
     "metadata": {},
     "output_type": "execute_result"
    }
   ],
   "source": [
    "c = np.zeros_like(a)\n",
    "print(\"L'array suivant crée en fonction de a est de type:\", c.dtype )\n",
    "print(\"Et de taille-->\", c.shape)\n",
    "c"
   ]
  },
  {
   "cell_type": "markdown",
   "id": "c3a76702",
   "metadata": {},
   "source": [
    "#### En fait, toutes les fonctions qui créent un tableau rempli d'une valeur constante ont une contrepartie _like"
   ]
  },
  {
   "cell_type": "code",
   "execution_count": 15,
   "id": "11493ac6",
   "metadata": {},
   "outputs": [
    {
     "name": "stdout",
     "output_type": "stream",
     "text": [
      "np.zeros(3) -->  [0. 0. 0.]\n",
      "np.ones(3) -->  [1. 1. 1.]\n",
      "np.empty(3) -->  [1. 1. 1.]\n",
      "np.full(3, 7.) -->  [7. 7. 7.]\n",
      "np.zeros_like(a) -->  [0 0 0]\n",
      "np.ones_like(a) -->  [1 1 1]\n",
      "np.empty_like(a) -->  [1 1 1]\n",
      "np.full_like(a, 7) -->  [7 7 7]\n"
     ]
    }
   ],
   "source": [
    "print(\"np.zeros(3) --> \",np.zeros(3))\n",
    "print(\"np.ones(3) --> \", np.ones(3))\n",
    "print(\"np.empty(3) --> \", np.empty(3))\n",
    "print(\"np.full(3, 7.) --> \", np.full(3, 7.))\n",
    "\n",
    "a = np.array([1, 2, 3])\n",
    "print(\"np.zeros_like(a) --> \", np.zeros_like(a))\n",
    "print(\"np.ones_like(a) --> \", np.ones_like(a))\n",
    "print(\"np.empty_like(a) --> \", np.empty_like(a))\n",
    "print(\"np.full_like(a, 7) --> \", np.full_like(a, 7))"
   ]
  },
  {
   "cell_type": "markdown",
   "id": "16fafca2",
   "metadata": {},
   "source": [
    "#### Remarque (Question): En 1ère execution de np.empty(a), ce dernier ne contiendra pas directement les valeurs  a après une exection de a qui date d'une certaine durée, à moins qu'on l'execute un nbre de fois >= 2"
   ]
  },
  {
   "cell_type": "markdown",
   "id": "0ba4e219",
   "metadata": {},
   "source": [
    "#### Il y a jusqu'à deux fonctions pour l'initialisation du tableau avec une séquence monotone dans NumPy"
   ]
  },
  {
   "cell_type": "code",
   "execution_count": 16,
   "id": "59660e50",
   "metadata": {},
   "outputs": [
    {
     "name": "stdout",
     "output_type": "stream",
     "text": [
      "np.arange(6) -->  [0 1 2 3 4 5]\n",
      "np.arange(2, 6) -->  [2 3 4 5]\n",
      "np.arange(1, 6, 2) -->  [1 3 5]\n",
      "np.linspace(0, 0.5, 6) -->  [0.  0.1 0.2 0.3 0.4 0.5]\n"
     ]
    }
   ],
   "source": [
    "print(\"np.arange(6) --> \", np.arange(6))\n",
    "print(\"np.arange(2, 6) --> \", np.arange(2, 6))\n",
    "print(\"np.arange(1, 6, 2) --> \", np.arange(1, 6, 2))\n",
    "#n'est pas particulièrement bon pour manipuler les floats, on utilise généralement linspace()\n",
    "print(\"np.linspace(0, 0.5, 6) --> \", np.linspace(0, 0.5, 6))\n",
    "# np.linspace(start, stop, numbre d'item)"
   ]
  },
  {
   "cell_type": "code",
   "execution_count": 17,
   "id": "d8a292ad",
   "metadata": {},
   "outputs": [
    {
     "name": "stdout",
     "output_type": "stream",
     "text": [
      "np.arange(0.4, 0.8, 0.1) -->  [0.4 0.5 0.6 0.7]\n"
     ]
    }
   ],
   "source": [
    "# np.arange(start, stop, numbre d'item)\n",
    "print(\"np.arange(0.4, 0.8, 0.1) --> \", np.arange(0.4, 0.8, 0.1))"
   ]
  },
  {
   "cell_type": "code",
   "execution_count": 18,
   "id": "c76a0688",
   "metadata": {},
   "outputs": [
    {
     "name": "stdout",
     "output_type": "stream",
     "text": [
      "np.random.randint(0, 10, 3) -->  [8 8 5]\n",
      "np.random.rand(3) -->  [0.37641644 0.00912969 0.80925469]\n",
      "np.random.uniform(1, 10, 3) -->  [5.18469038 4.23589738 4.20084035]\n",
      "np.random.randn(3) -->  []\n",
      "np.random.normal(5, 2, 3) -->  [4.24025241 4.19121002 3.15768402]\n"
     ]
    }
   ],
   "source": [
    "# Le methodes du module random\n",
    "import random\n",
    "print(\"np.random.randint(0, 10, 3) --> \", np.random.randint(0, 10, 3))\n",
    "print(\"np.random.rand(3) --> \", np.random.rand(3))\n",
    "print(\"np.random.uniform(1, 10, 3) --> \", np.random.uniform(0, 10, 3))\n",
    "print(\"np.random.randn(3) --> \", np.random.randn(0, 10, 3))\n",
    "print(\"np.random.normal(5, 2, 3) --> \", np.random.normal(5, 2, 3))"
   ]
  },
  {
   "cell_type": "markdown",
   "id": "cddaa0a8",
   "metadata": {},
   "source": [
    "#### Une nouvelle interface pour la génération de tableaux aléatoires"
   ]
  },
  {
   "cell_type": "code",
   "execution_count": 27,
   "id": "2af87452",
   "metadata": {},
   "outputs": [
    {
     "name": "stdout",
     "output_type": "stream",
     "text": [
      "rng.integers(0, 10, 3) -->  [2 1 1]\n",
      "rng.integers(0, 10, 3, endpoint = True) -->  [9 0 7]\n",
      "rng.random(3) -->  0\n",
      "rng.uniform(1, 10, 3) -->  [7.05126648 1.76474022 7.57237877]\n",
      "rng.standard_normal(3) -->  [ 0.6070718  -0.36095592  0.9240767 ]\n",
      "rng.normal(5, 2, 3) -->  [5.25306198 8.49006097 3.83252495]\n"
     ]
    }
   ],
   "source": [
    "rng = np.random.default_rng()\n",
    "\n",
    "print(\"rng.integers(0, 10, 3) --> \", rng.integers(0, 10, 3))\n",
    "print(\"rng.integers(0, 10, 3, endpoint = True) --> \", rng.integers(0, 10, 3, endpoint = True))\n",
    "print(\"rng.random(3) --> \", rng.integers(3))\n",
    "print(\"rng.uniform(1, 10, 3) --> \", rng.uniform(1, 10, 3))\n",
    "print(\"rng.standard_normal(3) --> \", rng.standard_normal(3))\n",
    "print(\"rng.normal(5, 2, 3) --> \", rng.uniform(1, 10, 3))\n"
   ]
  },
  {
   "cell_type": "markdown",
   "id": "ef605f53",
   "metadata": {},
   "source": [
    "## 2_2- Vector indexing"
   ]
  },
  {
   "cell_type": "code",
   "execution_count": 39,
   "id": "3f5c2de7",
   "metadata": {},
   "outputs": [
    {
     "name": "stdout",
     "output_type": "stream",
     "text": [
      "a[1] --> 2\n",
      "a[2:4] --> [3 4]\n",
      "a[-2:] --> [4 5]\n",
      "a[::2] --> [1 3 5]\n",
      "a[[1, 3, 4]] --> [2 4 5] (indexation sophistiquée)\n"
     ]
    }
   ],
   "source": [
    "a = np.arange(1, 6)\n",
    "print(\"a[1] -->\", a[1])\n",
    "print(\"a[2:4] -->\", a[2:4])\n",
    "print(\"a[-2:] -->\", a[-2:])\n",
    "print(\"a[::2] -->\", a[::2])\n",
    "print(\"a[[1, 3, 4]] -->\", a[[1, 3, 4]], \"(indexation sophistiquée)\")"
   ]
  },
  {
   "cell_type": "markdown",
   "id": "472b82e6",
   "metadata": {},
   "source": [
    "### Copie avec les listes python"
   ]
  },
  {
   "cell_type": "code",
   "execution_count": 54,
   "id": "76981f4f",
   "metadata": {},
   "outputs": [],
   "source": [
    "a = [1, 2, 3]\n",
    "b = a\n",
    "c = a[:]\n",
    "d = a.copy()"
   ]
  },
  {
   "cell_type": "code",
   "execution_count": 55,
   "id": "78cab9a9",
   "metadata": {},
   "outputs": [
    {
     "name": "stdout",
     "output_type": "stream",
     "text": [
      "b --> [1, 2, 3]\n",
      "c --> [1, 2, 3]\n",
      "d --> [1, 2, 3]\n"
     ]
    }
   ],
   "source": [
    "print(\"b -->\", b)\n",
    "print(\"c -->\", c)\n",
    "print(\"d -->\", d)"
   ]
  },
  {
   "cell_type": "code",
   "execution_count": 56,
   "id": "55e2b5a6",
   "metadata": {},
   "outputs": [],
   "source": [
    "del a"
   ]
  },
  {
   "cell_type": "code",
   "execution_count": 57,
   "id": "193803bc",
   "metadata": {},
   "outputs": [
    {
     "name": "stdout",
     "output_type": "stream",
     "text": [
      "b --> [1, 2, 3]\n",
      "c --> [1, 2, 3]\n",
      "d --> [1, 2, 3]\n"
     ]
    }
   ],
   "source": [
    "print(\"b -->\", b)\n",
    "print(\"c -->\", c)\n",
    "print(\"d -->\", d)"
   ]
  },
  {
   "cell_type": "markdown",
   "id": "45ccdf37",
   "metadata": {},
   "source": [
    "### Copie avec le librairie numpy"
   ]
  },
  {
   "cell_type": "code",
   "execution_count": 62,
   "id": "59951d52",
   "metadata": {},
   "outputs": [],
   "source": [
    "a = np.array([1, 2, 3])\n",
    "b = a\n",
    "c = a[:]\n",
    "d = a.copy()"
   ]
  },
  {
   "cell_type": "code",
   "execution_count": 63,
   "id": "fc8616ed",
   "metadata": {},
   "outputs": [
    {
     "name": "stdout",
     "output_type": "stream",
     "text": [
      "b --> [1 2 3]\n",
      "c --> [1 2 3]\n",
      "d --> [1 2 3]\n"
     ]
    }
   ],
   "source": [
    "print(\"b -->\", b)\n",
    "print(\"c -->\", c)\n",
    "print(\"d -->\", d)"
   ]
  },
  {
   "cell_type": "markdown",
   "id": "26d8978a",
   "metadata": {},
   "source": [
    "#### Le code suivant marche pas avec les listes en python mais ne marche pas avec numpy"
   ]
  },
  {
   "cell_type": "code",
   "execution_count": 66,
   "id": "06035049",
   "metadata": {},
   "outputs": [
    {
     "data": {
      "text/plain": [
       "[1, 4, 5, 3]"
      ]
     },
     "execution_count": 66,
     "metadata": {},
     "output_type": "execute_result"
    }
   ],
   "source": [
    "# Avec List()\n",
    "a = [1, 2, 3]\n",
    "a[1:2] = [4, 5] #Inserer 4 et 5 a l'indice 1 de a\n",
    "a"
   ]
  },
  {
   "cell_type": "code",
   "execution_count": 68,
   "id": "be6e8159",
   "metadata": {},
   "outputs": [
    {
     "ename": "ValueError",
     "evalue": "could not broadcast input array from shape (2,) into shape (1,)",
     "output_type": "error",
     "traceback": [
      "\u001b[1;31m---------------------------------------------------------------------------\u001b[0m",
      "\u001b[1;31mValueError\u001b[0m                                Traceback (most recent call last)",
      "Input \u001b[1;32mIn [68]\u001b[0m, in \u001b[0;36m<cell line: 3>\u001b[1;34m()\u001b[0m\n\u001b[0;32m      1\u001b[0m \u001b[38;5;66;03m# Essayons avec array\u001b[39;00m\n\u001b[0;32m      2\u001b[0m a \u001b[38;5;241m=\u001b[39m np\u001b[38;5;241m.\u001b[39marray([\u001b[38;5;241m1\u001b[39m, \u001b[38;5;241m2\u001b[39m, \u001b[38;5;241m3\u001b[39m])\n\u001b[1;32m----> 3\u001b[0m a[\u001b[38;5;241m1\u001b[39m:\u001b[38;5;241m2\u001b[39m] \u001b[38;5;241m=\u001b[39m [\u001b[38;5;241m4\u001b[39m, \u001b[38;5;241m5\u001b[39m] \u001b[38;5;66;03m#Inserer 4 et 5 a l'indice 1 de a\u001b[39;00m\n\u001b[0;32m      4\u001b[0m a\n",
      "\u001b[1;31mValueError\u001b[0m: could not broadcast input array from shape (2,) into shape (1,)"
     ]
    }
   ],
   "source": [
    "# Essayons avec array\n",
    "a = np.array([1, 2, 3])\n",
    "a[1:2] = [4, 5] #Inserer 4 et 5 a l'indice 1 de a\n",
    "a"
   ]
  },
  {
   "cell_type": "markdown",
   "id": "3798cbbf",
   "metadata": {},
   "source": [
    "Apres execution on se rend tout de suite compte que ça ne marche pas avec l'array de numpy, donc pour se faire, on pourra utiliser la methode .insert et .append"
   ]
  },
  {
   "cell_type": "markdown",
   "id": "58ba3d0c",
   "metadata": {},
   "source": [
    "### Une autre manière d'acceder à un tableau array est l'indexation booleene"
   ]
  },
  {
   "cell_type": "code",
   "execution_count": 101,
   "id": "af6cb8d5",
   "metadata": {},
   "outputs": [
    {
     "name": "stdout",
     "output_type": "stream",
     "text": [
      "np.any(a>5) -->  True\n",
      "np.all(a>5) -->  False\n",
      "a[a>5] -->  [6 7 6]\n"
     ]
    }
   ],
   "source": [
    "a = np.array([1, 2, 3, 4, 5, 6, 7, 6, 5, 4, 3, 2, 1])\n",
    "print(\"np.any(a>5) --> \", np.any(a>5))\n",
    "print(\"np.all(a>5) --> \", np.all(a>5))\n",
    "print(\"a[a>5] --> \", a[a>5]) # Retourne les valeurs en question elle même"
   ]
  },
  {
   "cell_type": "code",
   "execution_count": 75,
   "id": "61a82fac",
   "metadata": {},
   "outputs": [
    {
     "data": {
      "text/plain": [
       "array([1, 2, 3, 4, 5, 0, 0, 0, 5, 4, 3, 2, 1])"
      ]
     },
     "execution_count": 75,
     "metadata": {},
     "output_type": "execute_result"
    }
   ],
   "source": [
    "a[a>5] = 0 # Remplace les valeurs de a superieures à 5 par 0\n",
    "a"
   ]
  },
  {
   "cell_type": "code",
   "execution_count": 84,
   "id": "fa38ccf5",
   "metadata": {},
   "outputs": [
    {
     "data": {
      "text/plain": [
       "array([1, 2, 0, 0, 0, 6, 7, 6, 0, 0, 0, 2, 1])"
      ]
     },
     "execution_count": 84,
     "metadata": {},
     "output_type": "execute_result"
    }
   ],
   "source": [
    "a = np.array([1, 2, 3, 4, 5, 6, 7, 6, 5, 4, 3, 2, 1])\n",
    "a[(a>=3) & (a<=5)] = 0\n",
    "# Mais attention la comparaison ternaire comme 3<a<=8 ne marche pas ici\n",
    "a"
   ]
  },
  {
   "cell_type": "markdown",
   "id": "2c8998ca",
   "metadata": {},
   "source": [
    " ### Utilisation des methodes n.where et .np.clip"
   ]
  },
  {
   "cell_type": "code",
   "execution_count": 100,
   "id": "b902309a",
   "metadata": {
    "scrolled": true
   },
   "outputs": [
    {
     "name": "stdout",
     "output_type": "stream",
     "text": [
      "np.where(a>5) --> (array([ 8,  9, 10], dtype=int64),)\n",
      "np.nonzero(a>5) --> (array([ 8,  9, 10], dtype=int64),)\n"
     ]
    }
   ],
   "source": [
    "a = np.array([1, 2, 3, 4, 5, 0, 0, 0, 6, 7, 6, 5, 4, 3, 2, 1])\n",
    "print(\"np.where(a>5) -->\", np.where(a>5))\n",
    "print(\"np.nonzero(a>5) -->\", np.nonzero(a>5))\n",
    "# Ces 2 methodes retournent les indices\n",
    "# Mais quelle différence entre les deux ????"
   ]
  },
  {
   "cell_type": "markdown",
   "id": "c36a67e3",
   "metadata": {},
   "source": [
    "#### np.where()"
   ]
  },
  {
   "cell_type": "code",
   "execution_count": 105,
   "id": "2a8fbb16",
   "metadata": {},
   "outputs": [
    {
     "name": "stdout",
     "output_type": "stream",
     "text": [
      "[0 0 0 0 1 1 1 1 1 0 0 0 0]\n"
     ]
    }
   ],
   "source": [
    "a = np.array([1, 2, 3, 4, 5, 6, 7, 6, 5, 4, 3, 2, 1])\n",
    "a[a<5] = 0\n",
    "a[a>=5] = 1\n",
    "print(a)"
   ]
  },
  {
   "cell_type": "code",
   "execution_count": 110,
   "id": "d95e251b",
   "metadata": {},
   "outputs": [
    {
     "name": "stdout",
     "output_type": "stream",
     "text": [
      "np.where(a>=5, 1, 0) --> [0 0 0 0 1 1 1 1 1 0 0 0 0]\n"
     ]
    }
   ],
   "source": [
    "# ce code est le même que celui au dessus\n",
    "a = np.array([1, 2, 3, 4, 5, 6, 7, 6, 5, 4, 3, 2, 1])\n",
    "print(\"np.where(a>=5, 1, 0) -->\", np.where(a>=5, 1, 0))"
   ]
  },
  {
   "cell_type": "markdown",
   "id": "cd7b764a",
   "metadata": {},
   "source": [
    "np.where retourne un tuple"
   ]
  },
  {
   "cell_type": "markdown",
   "id": "3a32232b",
   "metadata": {},
   "source": [
    "#### NB: np.where(condition, valeur_à_affectée_pour_ceux_qui_vérifie_la_condition, valeur_à_affectée_pour_ceux_qui_ne_vérifie_pas_la_condition)"
   ]
  },
  {
   "cell_type": "markdown",
   "id": "632d1929",
   "metadata": {},
   "source": [
    "#### np.clip()"
   ]
  },
  {
   "cell_type": "code",
   "execution_count": 111,
   "id": "6dcd18ac",
   "metadata": {},
   "outputs": [
    {
     "name": "stdout",
     "output_type": "stream",
     "text": [
      "[2 2 3 4 5 5 5 5 5 4 3 2 2]\n"
     ]
    }
   ],
   "source": [
    "a = np.array([1, 2, 3, 4, 5, 6, 7, 6, 5, 4, 3, 2, 1])\n",
    "a[a<2] = 2\n",
    "a[a>5] = 5\n",
    "print(a)"
   ]
  },
  {
   "cell_type": "code",
   "execution_count": 115,
   "id": "89fc37fc",
   "metadata": {},
   "outputs": [
    {
     "name": "stdout",
     "output_type": "stream",
     "text": [
      "np.clip(a, 2, 5)--> [2 2 3 4 5 5 5 5 5 4 3 2 2]\n"
     ]
    }
   ],
   "source": [
    "# ce code est le même que celui au dessus\n",
    "a = np.array([1, 2, 3, 4, 5, 6, 7, 6, 5, 4, 3, 2, 1])\n",
    "print(\"np.clip(a, 2, 5)-->\", np.clip(a, 2, 5))"
   ]
  },
  {
   "cell_type": "markdown",
   "id": "2d22e39f",
   "metadata": {},
   "source": [
    "#### NB: np.clip(a, min, max)"
   ]
  },
  {
   "cell_type": "markdown",
   "id": "a3d8b4b9",
   "metadata": {},
   "source": [
    "### Vector Operations"
   ]
  },
  {
   "cell_type": "code",
   "execution_count": null,
   "id": "6d15d27f",
   "metadata": {},
   "outputs": [],
   "source": []
  }
 ],
 "metadata": {
  "kernelspec": {
   "display_name": "Python 3 (ipykernel)",
   "language": "python",
   "name": "python3"
  },
  "language_info": {
   "codemirror_mode": {
    "name": "ipython",
    "version": 3
   },
   "file_extension": ".py",
   "mimetype": "text/x-python",
   "name": "python",
   "nbconvert_exporter": "python",
   "pygments_lexer": "ipython3",
   "version": "3.9.12"
  }
 },
 "nbformat": 4,
 "nbformat_minor": 5
}
