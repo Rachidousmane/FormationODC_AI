{
 "cells": [
  {
   "cell_type": "code",
   "execution_count": 3,
   "id": "7ece9e85",
   "metadata": {},
   "outputs": [],
   "source": [
    "import numpy as np\n",
    "import matplotlib.pyplot as plt\n",
    "\n",
    "from tensorflow import keras\n",
    "from tensorflow.keras import optimizers\n",
    "from tensorflow.keras.models import Sequential\n",
    "from tensorflow.keras.layers import Dense\n",
    "\n"
   ]
  },
  {
   "cell_type": "code",
   "execution_count": 4,
   "id": "3bbb1d5f",
   "metadata": {},
   "outputs": [],
   "source": [
    "# Partie A - Les données\n",
    "from tensorflow.keras.datasets import mnist\n",
    "from tensorflow.keras.utils import to_categorical\n",
    "\n",
    "# Téléchargement des données\n",
    "(X_train_data,Y_train_data),(X_test_data,Y_test_data) = mnist.load_data()\n",
    "N = X_train_data.shape[0] # N = 60 000 données\n",
    "# Données d'apprentissage X\n",
    "X_train = np.reshape(X_train_data,(N,784)) # vecteur image\n",
    "X_train = X_train/255 # normalisation\n",
    "# Données d'apprentissage Y vers une liste de taille 10\n",
    "Y_train = to_categorical(Y_train_data, num_classes=10)\n",
    "# Données de test\n",
    "X_test = np.reshape(X_test_data,(X_test_data.shape[0],784))\n",
    "X_test = X_test/255\n",
    "Y_test = to_categorical(Y_test_data, num_classes=10)"
   ]
  },
  {
   "cell_type": "code",
   "execution_count": 5,
   "id": "19433460",
   "metadata": {},
   "outputs": [
    {
     "name": "stdout",
     "output_type": "stream",
     "text": [
      "Model: \"sequential\"\n",
      "_________________________________________________________________\n",
      " Layer (type)                Output Shape              Param #   \n",
      "=================================================================\n",
      " dense (Dense)               (None, 8)                 6280      \n",
      "                                                                 \n",
      " dense_1 (Dense)             (None, 8)                 72        \n",
      "                                                                 \n",
      " dense_2 (Dense)             (None, 10)                90        \n",
      "                                                                 \n",
      "=================================================================\n",
      "Total params: 6,442\n",
      "Trainable params: 6,442\n",
      "Non-trainable params: 0\n",
      "_________________________________________________________________\n",
      "None\n"
     ]
    }
   ],
   "source": [
    "### Partie B - Le réseau de neurones\n",
    "p = 8\n",
    "modele = Sequential()\n",
    "\n",
    "# Première couche : p neurones (entrée de dimension 784 = 28x28)\n",
    "modele.add(Dense(p, input_dim=784, activation='sigmoid'))\n",
    "# Deuxième couche : p neurones\n",
    "modele.add(Dense(p, activation='sigmoid'))\n",
    "# Couche de sortie : 1O neurones (un par chiffre)\n",
    "modele.add(Dense(10, activation='softmax'))\n",
    "# Choix de la méthode de descente de gradient\n",
    "modele.compile(loss='categorical_crossentropy',\n",
    "optimizer='sgd',\n",
    "metrics=['accuracy'])\n",
    "print(modele.summary())"
   ]
  },
  {
   "cell_type": "code",
   "execution_count": 6,
   "id": "01b14379",
   "metadata": {},
   "outputs": [
    {
     "name": "stdout",
     "output_type": "stream",
     "text": [
      "Epoch 1/40\n",
      "1875/1875 [==============================] - 19s 4ms/step - loss: 2.2761 - accuracy: 0.2229\n",
      "Epoch 2/40\n",
      "1875/1875 [==============================] - 7s 4ms/step - loss: 2.1476 - accuracy: 0.4141\n",
      "Epoch 3/40\n",
      "1875/1875 [==============================] - 7s 4ms/step - loss: 1.9129 - accuracy: 0.4629\n",
      "Epoch 4/40\n",
      "1875/1875 [==============================] - 8s 4ms/step - loss: 1.6532 - accuracy: 0.5198\n",
      "Epoch 5/40\n",
      "1875/1875 [==============================] - 9s 5ms/step - loss: 1.4538 - accuracy: 0.5761\n",
      "Epoch 6/40\n",
      "1875/1875 [==============================] - 8s 4ms/step - loss: 1.3080 - accuracy: 0.6179\n",
      "Epoch 7/40\n",
      "1875/1875 [==============================] - 7s 4ms/step - loss: 1.1919 - accuracy: 0.6472\n",
      "Epoch 8/40\n",
      "1875/1875 [==============================] - 7s 4ms/step - loss: 1.0944 - accuracy: 0.6777\n",
      "Epoch 9/40\n",
      "1875/1875 [==============================] - 7s 4ms/step - loss: 1.0135 - accuracy: 0.7064\n",
      "Epoch 10/40\n",
      "1875/1875 [==============================] - 7s 4ms/step - loss: 0.9482 - accuracy: 0.7273\n",
      "Epoch 11/40\n",
      "1875/1875 [==============================] - 7s 4ms/step - loss: 0.8956 - accuracy: 0.7433\n",
      "Epoch 12/40\n",
      "1875/1875 [==============================] - 7s 4ms/step - loss: 0.8516 - accuracy: 0.7556\n",
      "Epoch 13/40\n",
      "1875/1875 [==============================] - 7s 4ms/step - loss: 0.8131 - accuracy: 0.7667\n",
      "Epoch 14/40\n",
      "1875/1875 [==============================] - 7s 4ms/step - loss: 0.7783 - accuracy: 0.7770\n",
      "Epoch 15/40\n",
      "1875/1875 [==============================] - 7s 4ms/step - loss: 0.7465 - accuracy: 0.7867\n",
      "Epoch 16/40\n",
      "1875/1875 [==============================] - 7s 4ms/step - loss: 0.7172 - accuracy: 0.7950\n",
      "Epoch 17/40\n",
      "1875/1875 [==============================] - 7s 4ms/step - loss: 0.6906 - accuracy: 0.8037\n",
      "Epoch 18/40\n",
      "1875/1875 [==============================] - 8s 4ms/step - loss: 0.6660 - accuracy: 0.8128\n",
      "Epoch 19/40\n",
      "1875/1875 [==============================] - 7s 4ms/step - loss: 0.6431 - accuracy: 0.8213\n",
      "Epoch 20/40\n",
      "1875/1875 [==============================] - 8s 4ms/step - loss: 0.6220 - accuracy: 0.8288\n",
      "Epoch 21/40\n",
      "1875/1875 [==============================] - 8s 4ms/step - loss: 0.6023 - accuracy: 0.8358\n",
      "Epoch 22/40\n",
      "1875/1875 [==============================] - 8s 4ms/step - loss: 0.5841 - accuracy: 0.8417\n",
      "Epoch 23/40\n",
      "1875/1875 [==============================] - 8s 4ms/step - loss: 0.5673 - accuracy: 0.8467\n",
      "Epoch 24/40\n",
      "1875/1875 [==============================] - 8s 4ms/step - loss: 0.5519 - accuracy: 0.8515\n",
      "Epoch 25/40\n",
      "1875/1875 [==============================] - 9s 5ms/step - loss: 0.5376 - accuracy: 0.8551\n",
      "Epoch 26/40\n",
      "1875/1875 [==============================] - 8s 4ms/step - loss: 0.5246 - accuracy: 0.8587\n",
      "Epoch 27/40\n",
      "1875/1875 [==============================] - 8s 4ms/step - loss: 0.5125 - accuracy: 0.8622\n",
      "Epoch 28/40\n",
      "1875/1875 [==============================] - 8s 4ms/step - loss: 0.5013 - accuracy: 0.8648\n",
      "Epoch 29/40\n",
      "1875/1875 [==============================] - 8s 4ms/step - loss: 0.4908 - accuracy: 0.8680\n",
      "Epoch 30/40\n",
      "1875/1875 [==============================] - 9s 5ms/step - loss: 0.4810 - accuracy: 0.8707\n",
      "Epoch 31/40\n",
      "1875/1875 [==============================] - 8s 4ms/step - loss: 0.4720 - accuracy: 0.8735\n",
      "Epoch 32/40\n",
      "1875/1875 [==============================] - 8s 4ms/step - loss: 0.4634 - accuracy: 0.8755\n",
      "Epoch 33/40\n",
      "1875/1875 [==============================] - 9s 5ms/step - loss: 0.4553 - accuracy: 0.8774\n",
      "Epoch 34/40\n",
      "1875/1875 [==============================] - 8s 4ms/step - loss: 0.4477 - accuracy: 0.8798\n",
      "Epoch 35/40\n",
      "1875/1875 [==============================] - 8s 4ms/step - loss: 0.4404 - accuracy: 0.8816\n",
      "Epoch 36/40\n",
      "1875/1875 [==============================] - 8s 4ms/step - loss: 0.4337 - accuracy: 0.8832\n",
      "Epoch 37/40\n",
      "1875/1875 [==============================] - 8s 4ms/step - loss: 0.4273 - accuracy: 0.8848\n",
      "Epoch 38/40\n",
      "1875/1875 [==============================] - 8s 4ms/step - loss: 0.4212 - accuracy: 0.8864\n",
      "Epoch 39/40\n",
      "1875/1875 [==============================] - 8s 4ms/step - loss: 0.4155 - accuracy: 0.8878\n",
      "Epoch 40/40\n",
      "1875/1875 [==============================] - 8s 4ms/step - loss: 0.4099 - accuracy: 0.8894\n"
     ]
    },
    {
     "data": {
      "text/plain": [
       "<keras.callbacks.History at 0x16ea1e666b0>"
      ]
     },
     "execution_count": 6,
     "metadata": {},
     "output_type": "execute_result"
    }
   ],
   "source": [
    "### Partie C - Calcul des poids par descente de gradient\n",
    "modele.fit(X_train, Y_train, batch_size=32, epochs=40)"
   ]
  },
  {
   "cell_type": "code",
   "execution_count": 7,
   "id": "71e94a58",
   "metadata": {},
   "outputs": [
    {
     "name": "stdout",
     "output_type": "stream",
     "text": [
      "Valeur de lerreur sur les données de test (loss): 0.4174882769584656\n",
      "Précision sur les données de test (accuracy): 0.8870999813079834\n"
     ]
    }
   ],
   "source": [
    "### Partie D - Résultats\n",
    "resultat = modele.evaluate(X_test, Y_test, verbose=0)\n",
    "print('Valeur de l''erreur sur les données de test (loss):', resultat[0])\n",
    "print('Précision sur les données de test (accuracy):', resultat[1])"
   ]
  },
  {
   "attachments": {},
   "cell_type": "markdown",
   "id": "752ca39a",
   "metadata": {},
   "source": [
    "## PREDICTION"
   ]
  },
  {
   "cell_type": "code",
   "execution_count": 8,
   "id": "081215a2",
   "metadata": {},
   "outputs": [
    {
     "name": "stdout",
     "output_type": "stream",
     "text": [
      "313/313 [==============================] - 16s 3ms/step\n"
     ]
    }
   ],
   "source": [
    "# Prédiction sur les données de test\n",
    "Y_predict = modele.predict(X_test)"
   ]
  },
  {
   "cell_type": "code",
   "execution_count": 9,
   "id": "1bfabe6d",
   "metadata": {},
   "outputs": [
    {
     "name": "stdout",
     "output_type": "stream",
     "text": [
      "Sortie réseau [1.02962824e-02 7.25108202e-06 8.21973849e-03 5.70882461e-04\n",
      " 5.43601513e-01 1.16118649e-02 3.97112131e-01 1.04031766e-04\n",
      " 8.82781576e-03 1.96484774e-02]\n",
      "Chiffre attendu : 5\n",
      "Chiffre prédit : 4\n"
     ]
    },
    {
     "data": {
      "image/png": "[encoded data removed]",
      "text/plain": [
       "<Figure size 640x480 with 1 Axes>"
      ]
     },
     "metadata": {},
     "output_type": "display_data"
    }
   ],
   "source": [
    "# Un exemple\n",
    "i = 8 # numéro de l'image\n",
    "chiffre_predit = np.argmax(Y_predict[i]) # prédiction par le réseau\n",
    "print(\"Sortie réseau\", Y_predict[i])\n",
    "print(\"Chiffre attendu :\", Y_test_data[i])\n",
    "print(\"Chiffre prédit :\", chiffre_predit)\n",
    "plt.imshow(X_test_data[i], cmap='Greys')\n",
    "plt.show()"
   ]
  },
  {
   "attachments": {},
   "cell_type": "markdown",
   "id": "469da43b",
   "metadata": {},
   "source": [
    "## PROGRAMME"
   ]
  },
  {
   "cell_type": "code",
   "execution_count": 10,
   "id": "9bc3691f",
   "metadata": {},
   "outputs": [],
   "source": [
    "# Partie A. Données\n",
    "# Fonction à approcher\n",
    "def f(x):\n",
    "    return np.cos(2*x) + x*np.sin(3*x) + x**0.5 - 2\n",
    "a, b = 0, 5 # intervalle [a,b]\n",
    "N = 100 # taille des données\n",
    "X = np.linspace(a, b, N) # abscisses\n",
    "Y = f(X) # ordonnées\n",
    "X_train = X.reshape(-1,1)\n",
    "Y_train = Y.reshape(-1,1)"
   ]
  },
  {
   "cell_type": "code",
   "execution_count": 11,
   "id": "16dac920",
   "metadata": {},
   "outputs": [],
   "source": [
    "# Partie B. Réseau\n",
    "modele = Sequential()\n",
    "p = 10\n",
    "modele.add(Dense(p, input_dim=1, activation='tanh'))\n",
    "modele.add(Dense(p, activation='tanh'))\n",
    "modele.add(Dense(p, activation='tanh'))\n",
    "modele.add(Dense(p, activation='tanh'))\n",
    "modele.add(Dense(1, activation='linear'))\n",
    "#"
   ]
  },
  {
   "cell_type": "code",
   "execution_count": 12,
   "id": "73cef904",
   "metadata": {},
   "outputs": [
    {
     "name": "stderr",
     "output_type": "stream",
     "text": [
      "c:\\Users\\Oussou\\AppData\\Local\\Programs\\Python\\Python310\\lib\\site-packages\\keras\\optimizers\\optimizer_v2\\gradient_descent.py:114: UserWarning: The `lr` argument is deprecated, use `learning_rate` instead.\n",
      "  super().__init__(name, **kwargs)\n"
     ]
    },
    {
     "name": "stdout",
     "output_type": "stream",
     "text": [
      "Model: \"sequential_1\"\n",
      "_________________________________________________________________\n",
      " Layer (type)                Output Shape              Param #   \n",
      "=================================================================\n",
      " dense_3 (Dense)             (None, 10)                20        \n",
      "                                                                 \n",
      " dense_4 (Dense)             (None, 10)                110       \n",
      "                                                                 \n",
      " dense_5 (Dense)             (None, 10)                110       \n",
      "                                                                 \n",
      " dense_6 (Dense)             (None, 10)                110       \n",
      "                                                                 \n",
      " dense_7 (Dense)             (None, 1)                 11        \n",
      "                                                                 \n",
      "=================================================================\n",
      "Total params: 361\n",
      "Trainable params: 361\n",
      "Non-trainable params: 0\n",
      "_________________________________________________________________\n",
      "None\n"
     ]
    }
   ],
   "source": [
    "# Méthode de gradient : descente de gradient classique améliorée\n",
    "mysgd = optimizers.legacy.SGD(lr=0.001, decay=1e-7, momentum=0.9, nesterov=True) # J'ai ajouter legacy\n",
    "modele.compile(loss='mean_squared_error', optimizer=mysgd)\n",
    "print(modele.summary())"
   ]
  },
  {
   "cell_type": "code",
   "execution_count": 13,
   "id": "1b372e03",
   "metadata": {},
   "outputs": [
    {
     "name": "stdout",
     "output_type": "stream",
     "text": [
      "Epoch 1/20\n",
      "1/1 [==============================] - 3s 3s/step - loss: 5.0415\n",
      "Epoch 2/20\n",
      "1/1 [==============================] - 0s 18ms/step - loss: 5.0123\n",
      "Epoch 3/20\n",
      "1/1 [==============================] - 0s 12ms/step - loss: 4.9742\n",
      "Epoch 4/20\n",
      "1/1 [==============================] - 0s 13ms/step - loss: 4.9319\n",
      "Epoch 5/20\n",
      "1/1 [==============================] - 0s 18ms/step - loss: 4.8895\n",
      "Epoch 6/20\n",
      "1/1 [==============================] - 0s 40ms/step - loss: 4.8505\n",
      "Epoch 7/20\n",
      "1/1 [==============================] - 0s 15ms/step - loss: 4.8171\n",
      "Epoch 8/20\n",
      "1/1 [==============================] - 0s 14ms/step - loss: 4.7903\n",
      "Epoch 9/20\n",
      "1/1 [==============================] - 0s 24ms/step - loss: 4.7693\n",
      "Epoch 10/20\n",
      "1/1 [==============================] - 0s 41ms/step - loss: 4.7527\n",
      "Epoch 11/20\n",
      "1/1 [==============================] - 0s 24ms/step - loss: 4.7385\n",
      "Epoch 12/20\n",
      "1/1 [==============================] - 0s 14ms/step - loss: 4.7250\n",
      "Epoch 13/20\n",
      "1/1 [==============================] - 0s 16ms/step - loss: 4.7104\n",
      "Epoch 14/20\n",
      "1/1 [==============================] - 0s 11ms/step - loss: 4.6939\n",
      "Epoch 15/20\n",
      "1/1 [==============================] - 0s 14ms/step - loss: 4.6751\n",
      "Epoch 16/20\n",
      "1/1 [==============================] - 0s 12ms/step - loss: 4.6539\n",
      "Epoch 17/20\n",
      "1/1 [==============================] - 0s 14ms/step - loss: 4.6311\n",
      "Epoch 18/20\n",
      "1/1 [==============================] - 0s 15ms/step - loss: 4.6075\n",
      "Epoch 19/20\n",
      "1/1 [==============================] - 0s 48ms/step - loss: 4.5838\n",
      "Epoch 20/20\n",
      "1/1 [==============================] - 0s 12ms/step - loss: 4.5609\n"
     ]
    }
   ],
   "source": [
    "# # Partie C. Apprentissage\n",
    "history = modele.fit(X_train, Y_train, epochs=20, batch_size=N)"
   ]
  },
  {
   "cell_type": "code",
   "execution_count": 14,
   "id": "0f017791",
   "metadata": {},
   "outputs": [
    {
     "name": "stdout",
     "output_type": "stream",
     "text": [
      "4/4 [==============================] - 0s 3ms/step\n"
     ]
    },
    {
     "data": {
      "image/png": "[encoded data removed]",
      "text/plain": [
       "<Figure size 640x480 with 1 Axes>"
      ]
     },
     "metadata": {},
     "output_type": "display_data"
    }
   ],
   "source": [
    "# Partie D. Visualisation\n",
    "# Affichage de la fonction et de son approximation\n",
    "Y_predict = modele.predict(X_train)\n",
    "plt.plot(X_train, Y_train, color='blue')\n",
    "plt.plot(X_train, Y_predict, color='red')\n",
    "plt.show()"
   ]
  },
  {
   "cell_type": "code",
   "execution_count": 15,
   "id": "d96264ae",
   "metadata": {},
   "outputs": [
    {
     "data": {
      "image/png": "[encoded data removed]",
      "text/plain": [
       "<Figure size 640x480 with 1 Axes>"
      ]
     },
     "metadata": {},
     "output_type": "display_data"
    }
   ],
   "source": [
    "# Affichage de l'erreur au fil des époques\n",
    "plt.plot(history.history['loss'])\n",
    "plt.show()"
   ]
  },
  {
   "cell_type": "code",
   "execution_count": null,
   "id": "177581fb",
   "metadata": {},
   "outputs": [],
   "source": []
  },
  {
   "cell_type": "code",
   "execution_count": null,
   "id": "1f8a798f",
   "metadata": {},
   "outputs": [],
   "source": []
  },
  {
   "cell_type": "code",
   "execution_count": null,
   "id": "341dfacd",
   "metadata": {},
   "outputs": [],
   "source": []
  },
  {
   "cell_type": "code",
   "execution_count": null,
   "id": "aab427b6",
   "metadata": {},
   "outputs": [],
   "source": []
  }
 ],
 "metadata": {
  "kernelspec": {
   "display_name": "Python 3",
   "language": "python",
   "name": "python3"
  },
  "language_info": {
   "codemirror_mode": {
    "name": "ipython",
    "version": 3
   },
   "file_extension": ".py",
   "mimetype": "text/x-python",
   "name": "python",
   "nbconvert_exporter": "python",
   "pygments_lexer": "ipython3",
   "version": "3.10.4"
  },
  "vscode": {
   "interpreter": {
    "hash": "0187438eba99bd7a5255dd0c491934e3157b8001b931565cd79de712549588d7"
   }
  }
 },
 "nbformat": 4,
 "nbformat_minor": 5
}
